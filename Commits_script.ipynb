{
  "nbformat": 4,
  "nbformat_minor": 0,
  "metadata": {
    "colab": {
      "name": "Commits_script.ipynb",
      "provenance": [],
      "mount_file_id": "1qpahQJPjQbUdFxLp0ybP3CkUrp4E-rle",
      "authorship_tag": "ABX9TyPzhtm+l7yb9svKjMAw1cxX",
      "include_colab_link": true
    },
    "kernelspec": {
      "name": "python3",
      "display_name": "Python 3"
    },
    "language_info": {
      "name": "python"
    }
  },
  "cells": [
    {
      "cell_type": "markdown",
      "metadata": {
        "id": "view-in-github",
        "colab_type": "text"
      },
      "source": [
        "<a href=\"https://colab.research.google.com/github/anirudhsuresh/APEX/blob/main/Commits_script.ipynb\" target=\"_parent\"><img src=\"https://colab.research.google.com/assets/colab-badge.svg\" alt=\"Open In Colab\"/></a>"
      ]
    },
    {
      "cell_type": "code",
      "metadata": {
        "id": "ilaQLX4Lj3YJ"
      },
      "source": [
        "import pandas as pd\n",
        "import os\n",
        "import json\n",
        "import pandas as pd\n",
        "import re\n",
        "import collections"
      ],
      "execution_count": null,
      "outputs": []
    },
    {
      "cell_type": "code",
      "metadata": {
        "id": "KFih06hMj47K"
      },
      "source": [
        "emails_path='/content/drive/MyDrive/$ Nov Apache Data /network_data/commits'\n",
        "to_id='/content/drive/MyDrive/$ Nov Apache Data /name_to_id.json'\n",
        "# result_path='/content/drive/MyDrive/$ Nov Apache Data /updated_network_data/New_commits_2022/'"
      ],
      "execution_count": null,
      "outputs": []
    },
    {
      "cell_type": "code",
      "source": [
        "result_path='/content/drive/MyDrive/$ Nov Apache Data /2022_new_data/new_commits/'"
      ],
      "metadata": {
        "id": "HdeBee8Fhveg"
      },
      "execution_count": null,
      "outputs": []
    },
    {
      "cell_type": "code",
      "source": [
        "result_path"
      ],
      "metadata": {
        "colab": {
          "base_uri": "https://localhost:8080/",
          "height": 36
        },
        "id": "7q0mTVf81wVD",
        "outputId": "8879720d-5732-411a-f255-0d6e772fd27d"
      },
      "execution_count": null,
      "outputs": [
        {
          "output_type": "execute_result",
          "data": {
            "application/vnd.google.colaboratory.intrinsic+json": {
              "type": "string"
            },
            "text/plain": [
              "'/content/drive/MyDrive/$ Nov Apache Data /2022_new_data/new_commits/'"
            ]
          },
          "metadata": {},
          "execution_count": 53
        }
      ]
    },
    {
      "cell_type": "code",
      "source": [
        "def extract_number(input_string):\n",
        "  res=re.findall(r'\\d+',input_string)\n",
        "  return res[0]\n",
        "def extract_name(ans1):\n",
        "\n",
        "  regex = re.compile('[^a-zA-Z]')\n",
        "  #First parameter is the replacement, second parameter is your input string\n",
        "  a=regex.sub('',ans1.split('_')[0] )\n",
        "  return a"
      ],
      "metadata": {
        "id": "vnTZ_0fSnRGb"
      },
      "execution_count": null,
      "outputs": []
    },
    {
      "cell_type": "code",
      "source": [
        "def make_the_nested_list(normal_data_frame):\n",
        "  df_list=df['content'].tolist()\n",
        "  result=[]\n",
        "  for i in df_list:\n",
        "    myorder = [1,0,2]\n",
        "    mylist=i.split('##',3)\n",
        "    try:\n",
        "      mylist = [mylist[i] for i in myorder]\n",
        "    except IndexError:\n",
        "      continue\n",
        "    # mylist = [mylist[i] for i in myorder]\n",
        "\n",
        "    result.append(mylist)\n",
        "  json_string = json.dumps(result)\n",
        "  return json_string"
      ],
      "metadata": {
        "id": "WjurjK3io5ta"
      },
      "execution_count": null,
      "outputs": []
    },
    {
      "cell_type": "code",
      "source": [
        "all_files=os.listdir(emails_path)"
      ],
      "metadata": {
        "id": "pie1z5b_lmhj"
      },
      "execution_count": null,
      "outputs": []
    },
    {
      "cell_type": "code",
      "source": [
        "all_files.sort()\n",
        "len(all_files)"
      ],
      "metadata": {
        "id": "M8Y2MXUelmeS",
        "colab": {
          "base_uri": "https://localhost:8080/"
        },
        "outputId": "9066569b-1a81-47d7-81a2-9435c7b23b8f"
      },
      "execution_count": null,
      "outputs": [
        {
          "output_type": "execute_result",
          "data": {
            "text/plain": [
              "4327"
            ]
          },
          "metadata": {},
          "execution_count": 59
        }
      ]
    },
    {
      "cell_type": "code",
      "source": [
        "len(os.listdir(result_path))"
      ],
      "metadata": {
        "colab": {
          "base_uri": "https://localhost:8080/"
        },
        "id": "tsW1qfg1luZK",
        "outputId": "3ce70b9c-3faa-4641-cdff-95e95e20e797"
      },
      "execution_count": null,
      "outputs": [
        {
          "output_type": "execute_result",
          "data": {
            "text/plain": [
              "0"
            ]
          },
          "metadata": {},
          "execution_count": 48
        }
      ]
    },
    {
      "cell_type": "code",
      "source": [
        "n=len(all_files)\n",
        "# number of projects to change the file name for \n",
        "projects_to_change=[]\n",
        "for i in range(n):\n",
        "  fo=all_files[i]\n",
        "  # read the file\n",
        "  # get the mentor list for this project\n",
        "  c=fo.split('__')[0]\n",
        "  p=extract_name(c)\n",
        "  digit=fo.split('__')[1].split('.')[0]\n",
        "  \n",
        "  if digit is '0':\n",
        "    if p not in projects_to_change:\n",
        "      projects_to_change.append(p)\n",
        "projects_to_change.sort()"
      ],
      "metadata": {
        "id": "JNSsBoL_luV6"
      },
      "execution_count": null,
      "outputs": []
    },
    {
      "cell_type": "code",
      "source": [
        "n=len(all_files)\n",
        "# number of projects to change the file name for \n",
        "num_projects=[]\n",
        "for i in range(n):\n",
        "  fo=all_files[i]\n",
        "  # read the file\n",
        "  # get the mentor list for this project\n",
        "  c=fo.split('__')[0]\n",
        "  p=extract_name(c)\n",
        "  num_projects.append(p)\n",
        "num_projects=set(num_projects)"
      ],
      "metadata": {
        "id": "3rRWmHIqlmbH"
      },
      "execution_count": null,
      "outputs": []
    },
    {
      "cell_type": "code",
      "source": [
        "with open(to_id, 'r') as f:\n",
        "       name_to_id= json.load(f)\n",
        "# \n",
        "test_values=list(name_to_id.values())\n",
        "# \n",
        "name=list(name_to_id)\n",
        "# \n",
        "test_keys=[i.split(' ')[0].lower().strip() for i in name_to_id ]\n",
        "# \n",
        "name_to_id_mapping = {test_keys[i]: test_values[i] for i in range(len(test_keys))}\n"
      ],
      "metadata": {
        "id": "MrFR17wJoTmm"
      },
      "execution_count": null,
      "outputs": []
    },
    {
      "cell_type": "code",
      "source": [
        "key=list(name_to_id_mapping.values())\n",
        "k=[int(i) for i in key]\n",
        "k.sort()\n",
        "curre=k[-1]"
      ],
      "metadata": {
        "id": "ieECgC74t13j"
      },
      "execution_count": null,
      "outputs": []
    },
    {
      "cell_type": "code",
      "source": [
        "name_to_id_mapping\n",
        "i=312\n",
        "for file in all_files:\n",
        "  prj_name=file.split('__',1)[0]\n",
        "  if prj_name not in name_to_id_mapping:\n",
        "    name_to_id_mapping[prj_name]=i\n",
        "    i+=1\n",
        "\n",
        "  else:\n",
        "    continue \n"
      ],
      "metadata": {
        "id": "-A5lgN3nvbX1"
      },
      "execution_count": null,
      "outputs": []
    },
    {
      "cell_type": "code",
      "source": [
        "all_files.sort()\n",
        "d={}\n",
        "for f in range(n):\n",
        "  filez=all_files[f]\n",
        "  if filez.split('__')[1].split('.')[0]=='0':\n",
        "    d[filez.split('__')[0]]=1\n",
        "projects_to_change=d"
      ],
      "metadata": {
        "id": "qf_cPQe6u99v"
      },
      "execution_count": null,
      "outputs": []
    },
    {
      "cell_type": "code",
      "source": [
        "def check_current_name(cur_prj_name,cur_prj_month):\n",
        "\n",
        "\n",
        "\n",
        "    if cur_prj_name in projects_to_change:\n",
        "      cur_prj_month=int(cur_prj_month)\n",
        "      cur_prj_month+=1\n",
        "    else:\n",
        "      return cur_prj_month\n",
        "    #   new_name='p'+str(name_to_id_mapping[cur_prj_name])+'m'+str(cur_prj_month)+'_'+'commits'+'.json'\n",
        "    # else:\n",
        "    #   new_name='p'+str(name_to_id_mapping[cur_prj_name])+'m'+str(cur_prj_month)+'_'+'commits'+'.json'\n",
        "\n",
        "    return cur_prj_month"
      ],
      "metadata": {
        "id": "Qk9prZxbs3GS"
      },
      "execution_count": null,
      "outputs": []
    },
    {
      "cell_type": "code",
      "source": [
        "n"
      ],
      "metadata": {
        "colab": {
          "base_uri": "https://localhost:8080/"
        },
        "id": "I8OBht372j7h",
        "outputId": "d9020458-d5af-4265-9e4b-569d1ea977bf"
      },
      "execution_count": null,
      "outputs": [
        {
          "output_type": "execute_result",
          "data": {
            "text/plain": [
              "4327"
            ]
          },
          "metadata": {},
          "execution_count": 16
        }
      ]
    },
    {
      "cell_type": "code",
      "source": [
        "# --- dont run here -----"
      ],
      "metadata": {
        "colab": {
          "base_uri": "https://localhost:8080/",
          "height": 135
        },
        "id": "f966x_iUuquD",
        "outputId": "ef414160-d799-4318-fd6b-4038a0f693ea"
      },
      "execution_count": null,
      "outputs": [
        {
          "output_type": "error",
          "ename": "SyntaxError",
          "evalue": "ignored",
          "traceback": [
            "\u001b[0;36m  File \u001b[0;32m\"<ipython-input-17-ec5e46eea2a2>\"\u001b[0;36m, line \u001b[0;32m1\u001b[0m\n\u001b[0;31m    --- dont run here -----\u001b[0m\n\u001b[0m               ^\u001b[0m\n\u001b[0;31mSyntaxError\u001b[0m\u001b[0;31m:\u001b[0m invalid syntax\n"
          ]
        }
      ]
    },
    {
      "cell_type": "code",
      "source": [
        "res=[]\n",
        "for f in range(n):\n",
        "  # print(all_files[f])\n",
        "  \n",
        "  filez=all_files[f]\n",
        "\n",
        "\n",
        "  project_name=filez.split('__',1)[0]\n",
        "  month=filez.split('__',1)[1].split('.')[0]\n",
        "  df=pd.read_csv(emails_path+'/'+filez,names=['content'])\n",
        "  answer=make_the_nested_list(df)\n",
        "   \n",
        "  out=check_current_name(project_name,month)\n",
        "  res.append([project_name,month,out,f])\n",
        "  # write the file now\n",
        "  # print(filez.split('__',1)[0]+'_'+str(out)+'.json')\n",
        "  with open(result_path+filez.split('__',1)[0]+'_'+str(out)+'.json', 'w') as f:\n",
        "    f.write(str(answer))\n"
      ],
      "metadata": {
        "id": "ItPZofvPnyLb"
      },
      "execution_count": null,
      "outputs": []
    },
    {
      "cell_type": "markdown",
      "source": [
        "------------------------STOP"
      ],
      "metadata": {
        "id": "eNzSWFT7Cyco"
      }
    },
    {
      "cell_type": "code",
      "source": [
        "len(os.listdir(result_path))"
      ],
      "metadata": {
        "colab": {
          "base_uri": "https://localhost:8080/"
        },
        "id": "Rd8ZPh59voux",
        "outputId": "e851577f-6463-4f89-c6eb-266846f2154e"
      },
      "execution_count": null,
      "outputs": [
        {
          "output_type": "execute_result",
          "data": {
            "text/plain": [
              "4327"
            ]
          },
          "metadata": {},
          "execution_count": 60
        }
      ]
    },
    {
      "cell_type": "markdown",
      "source": [
        "correcting the file with 0 months "
      ],
      "metadata": {
        "id": "OegxmHwIp84s"
      }
    },
    {
      "cell_type": "code",
      "source": [
        "# ----end---"
      ],
      "metadata": {
        "id": "WMZvYzfxq3F_"
      },
      "execution_count": null,
      "outputs": []
    },
    {
      "cell_type": "code",
      "source": [
        "a=[[\"james m. snell\", \"ExtensionFactory.java\", \"3\"], [\"james m. snell\", \"Factory.java\", \"7\"], [\"james m. snell\", \"ParseFilter.java\", \"2\"], [\"james m. snell\", \"TextFilter.java\", \"2\"], [\"james m. snell\", \"AtomDate.java\", \"3\"], [\"james m. snell\", \"Base.java\", \"4\"], [\"james m. snell\", \"Category.java\", \"2\"], [\"james m. snell\", \"Collection.java\", \"2\"], [\"james m. snell\", \"Content.java\", \"5\"], [\"james m. snell\", \"Control.java\", \"1\"], [\"james m. snell\", \"DateTime.java\", \"1\"], [\"james m. snell\", \"Div.java\", \"1\"], [\"james m. snell\", \"Document.java\", \"1\"], [\"james m. snell\", \"Element.java\", \"1\"], [\"james m. snell\", \"Entry.java\", \"4\"], [\"james m. snell\", \"ExtensibleElement.java\", \"2\"], [\"james m. snell\", \"ExtensionElement.java\", \"1\"], [\"james m. snell\", \"Feed.java\", \"1\"], [\"james m. snell\", \"Generator.java\", \"1\"], [\"james m. snell\", \"IRI.java\", \"1\"], [\"james m. snell\", \"InReplyTo.java\", \"4\"], [\"james m. snell\", \"Link.java\", \"1\"], [\"james m. snell\", \"Person.java\", \"1\"], [\"james m. snell\", \"Service.java\", \"1\"], [\"james m. snell\", \"Source.java\", \"3\"], [\"james m. snell\", \"StringElement.java\", \"1\"], [\"james m. snell\", \"Text.java\", \"3\"], [\"james m. snell\", \"Total.java\", \"4\"], [\"james m. snell\", \"Workspace.java\", \"1\"], [\"james m. snell\", \"ParseException.java\", \"1\"], [\"james m. snell\", \"Parser.java\", \"3\"], [\"james m. snell\", \"ParserOptions.java\", \"1\"], [\"james m. snell\", \"AbstractParser.java\", \"3\"], [\"james m. snell\", \"AbstractParserOptions.java\", \"1\"], [\"james m. snell\", \"AbstractXPath.java\", \"2\"], [\"james m. snell\", \"BlackListParseFilter.java\", \"1\"], [\"james m. snell\", \"ConfigProperties.java\", \"1\"], [\"james m. snell\", \"Constants.java\", \"3\"], [\"james m. snell\", \"MimeTypeHelper.java\", \"1\"], [\"james m. snell\", \"NonOpTextFilter.java\", \"1\"], [\"james m. snell\", \"ServiceUtil.java\", \"3\"], [\"james m. snell\", \"ThreadHelper.java\", \"4\"], [\"james m. snell\", \"URIHelper.java\", \"1\"], [\"james m. snell\", \"Version.java\", \"3\"], [\"james m. snell\", \"WhiteListParseFilter.java\", \"1\"], [\"james m. snell\", \"XPath.java\", \"1\"], [\"james m. snell\", \"XPathException.java\", \"1\"], [\"james m. snell\", \"CoreTests.java\", \"2\"], [\"james m. snell\", \"index.html\", \"4\"], [\"elias torres\", \"index.html\", \"1\"], [\"james m. snell\", \"AtomClient.java\", \"1\"], [\"elias torres\", \"AtomClient.java\", \"1\"], [\"james m. snell\", \"ClientException.java\", \"1\"], [\"james m. snell\", \"EntryRequestEntity.java\", \"1\"], [\"james m. snell\", \"Main.java\", \"2\"], [\"james m. snell\", \"NotModifiedException.java\", \"1\"], [\"james m. snell\", \"RequestOptions.java\", \"1\"], [\"elias torres\", \"RequestOptions.java\", \"1\"], [\"james m. snell\", \"ServerException.java\", \"1\"], [\"james m. snell\", \"SimpleSSLProtocolSocketFactory.java\", \"1\"], [\"james m. snell\", \"Create.java\", \"4\"], [\"james m. snell\", \"Parse.java\", \"2\"], [\"james m. snell\", \"PrintTitles.java\", \"1\"], [\"james m. snell\", \"FOMBuilder.java\", \"2\"], [\"james m. snell\", \"FOMCategory.java\", \"2\"], [\"james m. snell\", \"FOMCollection.java\", \"2\"], [\"james m. snell\", \"FOMContent.java\", \"7\"], [\"james m. snell\", \"FOMControl.java\", \"2\"], [\"james m. snell\", \"FOMDateTime.java\", \"2\"], [\"james m. snell\", \"FOMDiv.java\", \"3\"], [\"james m. snell\", \"FOMDocument.java\", \"3\"], [\"james m. snell\", \"FOMElement.java\", \"5\"], [\"james m. snell\", \"FOMEntry.java\", \"5\"], [\"james m. snell\", \"FOMException.java\", \"1\"], [\"james m. snell\", \"FOMExtensibleElement.java\", \"3\"], [\"james m. snell\", \"FOMExtensionElement.java\", \"2\"], [\"james m. snell\", \"FOMExtensionFactory.java\", \"2\"], [\"james m. snell\", \"FOMFactory.java\", \"6\"], [\"james m. snell\", \"FOMFeed.java\", \"1\"], [\"james m. snell\", \"FOMGenerator.java\", \"1\"], [\"james m. snell\", \"FOMIRI.java\", \"1\"], [\"james m. snell\", \"FOMInReplyTo.java\", \"4\"], [\"james m. snell\", \"FOMLink.java\", \"1\"], [\"james m. snell\", \"FOMParser.java\", \"4\"], [\"james m. snell\", \"FOMParserOptions.java\", \"1\"], [\"james m. snell\", \"FOMPerson.java\", \"1\"], [\"james m. snell\", \"FOMService.java\", \"1\"], [\"james m. snell\", \"FOMSource.java\", \"1\"], [\"james m. snell\", \"FOMStringElement.java\", \"1\"], [\"james m. snell\", \"FOMText.java\", \"4\"], [\"james m. snell\", \"FOMTotal.java\", \"4\"], [\"james m. snell\", \"FOMUnsupportedContentTypeException.java\", \"1\"], [\"james m. snell\", \"FOMUnsupportedTextTypeException.java\", \"1\"], [\"james m. snell\", \"FOMWorkspace.java\", \"1\"], [\"james m. snell\", \"FOMXPath.java\", \"1\"], [\"james m. snell\", \"AtomConformanceTests.java\", \"2\"], [\"james m. snell\", \"FOMTest.java\", \"7\"], [\"james m. snell\", \"FeedParserTests.java\", \"2\"], [\"james m. snell\", \"FeedValidatorTest.java\", \"2\"], [\"james m. snell\", \"ParserTest.java\", \"1\"], [\"james m. snell\", \"Encryption.java\", \"1\"], [\"james m. snell\", \"EncryptionOptions.java\", \"1\"], [\"james m. snell\", \"SecurityException.java\", \"1\"], [\"james m. snell\", \"SecurityOptions.java\", \"1\"], [\"james m. snell\", \"Signature.java\", \"1\"], [\"james m. snell\", \"SignatureOptions.java\", \"1\"], [\"james m. snell\", \"EncryptionBase.java\", \"1\"], [\"james m. snell\", \"SecurityBase.java\", \"1\"], [\"james m. snell\", \"SignatureBase.java\", \"1\"], [\"james m. snell\", \"XmlEncryption.java\", \"1\"], [\"james m. snell\", \"XmlEncryptionOptions.java\", \"1\"], [\"james m. snell\", \"XmlSecurityOptions.java\", \"1\"], [\"james m. snell\", \"XmlSignature.java\", \"1\"], [\"james m. snell\", \"XmlSignatureOptions.java\", \"1\"], [\"james m. snell\", \"building.html\", \"2\"], [\"james m. snell\", \"developers.html\", \"2\"], [\"james m. snell\", \"gettingstarted.html\", \"2\"], [\"james m. snell\", \"reference.html\", \"2\"], [\"james m. snell\", \"faq.html\", \"2\"], [\"james m. snell\", \"project.html\", \"3\"], [\"james m. snell\", \"_template.html\", \"2\"], [\"james m. snell\", \"main.css\", \"2\"], [\"james m. snell\", \"allclasses-frame.html\", \"2\"], [\"james m. snell\", \"allclasses-noframe.html\", \"2\"], [\"james m. snell\", \"constant-values.html\", \"2\"], [\"james m. snell\", \"deprecated-list.html\", \"2\"], [\"james m. snell\", \"help-doc.html\", \"2\"], [\"james m. snell\", \"index-all.html\", \"1\"], [\"james m. snell\", \"ExtensionFactory.html\", \"1\"], [\"james m. snell\", \"Factory.html\", \"1\"], [\"james m. snell\", \"package-frame.html\", \"5\"], [\"james m. snell\", \"package-summary.html\", \"5\"], [\"james m. snell\", \"package-tree.html\", \"5\"], [\"james m. snell\", \"ParseFilter.html\", \"1\"], [\"james m. snell\", \"TextFilter.html\", \"1\"], [\"james m. snell\", \"AtomDate.html\", \"1\"], [\"james m. snell\", \"Base.html\", \"1\"], [\"james m. snell\", \"Category.html\", \"1\"], [\"james m. snell\", \"Collection.html\", \"1\"], [\"james m. snell\", \"Content.Type.html\", \"1\"], [\"james m. snell\", \"Content.html\", \"1\"], [\"james m. snell\", \"Control.html\", \"1\"], [\"james m. snell\", \"DateTime.html\", \"1\"], [\"james m. snell\", \"Div.html\", \"1\"], [\"james m. snell\", \"Document.html\", \"1\"], [\"james m. snell\", \"Element.html\", \"1\"], [\"james m. snell\", \"Entry.html\", \"1\"], [\"james m. snell\", \"ExtensibleElement.html\", \"1\"], [\"james m. snell\", \"ExtensionElement.html\", \"1\"], [\"james m. snell\", \"Feed.html\", \"1\"], [\"james m. snell\", \"Generator.html\", \"1\"], [\"james m. snell\", \"IRI.html\", \"1\"], [\"james m. snell\", \"InReplyTo.html\", \"1\"], [\"james m. snell\", \"Link.html\", \"1\"], [\"james m. snell\", \"Person.html\", \"1\"], [\"james m. snell\", \"Service.html\", \"1\"], [\"james m. snell\", \"Source.html\", \"1\"], [\"james m. snell\", \"StringElement.html\", \"1\"], [\"james m. snell\", \"Text.Type.html\", \"1\"], [\"james m. snell\", \"Text.html\", \"1\"], [\"james m. snell\", \"Total.html\", \"1\"], [\"james m. snell\", \"Workspace.html\", \"1\"], [\"james m. snell\", \"ParseException.html\", \"1\"], [\"james m. snell\", \"Parser.html\", \"1\"], [\"james m. snell\", \"ParserOptions.html\", \"1\"], [\"james m. snell\", \"XPath.html\", \"1\"], [\"james m. snell\", \"XPathException.html\", \"1\"], [\"james m. snell\", \"overview-frame.html\", \"1\"], [\"james m. snell\", \"overview-summary.html\", \"1\"], [\"james m. snell\", \"overview-tree.html\", \"1\"], [\"james m. snell\", \"serialized-form.html\", \"1\"], [\"james m. snell\", \"stylesheet.css\", \"1\"], [\"james m. snell\", \"CoreTest.java\", \"16\"], [\"james m. snell\", \"AtomConformanceTest.java\", \"17\"], [\"james m. snell\", \"FeedParserTest.java\", \"18\"], [\"james m. snell\", \"AbderaServerException.java\", \"2\"], [\"elias torres\", \"AbderaServerException.java\", \"32\"], [\"james m. snell\", \"CachePolicy.java\", \"2\"], [\"elias torres\", \"CachePolicy.java\", \"2\"], [\"james m. snell\", \"RequestContext.java\", \"2\"], [\"elias torres\", \"RequestContext.java\", \"3\"], [\"james m. snell\", \"RequestHandler.java\", \"2\"], [\"elias torres\", \"RequestHandler.java\", \"3\"], [\"james m. snell\", \"RequestHandlerFactory.java\", \"2\"], [\"elias torres\", \"RequestHandlerFactory.java\", \"4\"], [\"james m. snell\", \"ResponseContext.java\", \"2\"], [\"elias torres\", \"ResponseContext.java\", \"7\"], [\"james m. snell\", \"MethodNotAllowed.java\", \"2\"], [\"elias torres\", \"MethodNotAllowed.java\", \"3\"], [\"james m. snell\", \"AbderaServlet.java\", \"2\"], [\"elias torres\", \"AbderaServlet.java\", \"7\"], [\"james m. snell\", \"ServletRequestContext.java\", \"2\"], [\"elias torres\", \"ServletRequestContext.java\", \"5\"], [\"james m. snell\", \"TestSuite.java\", \"4\"], [\"james m. snell\", \"AbderaResult.java\", \"3\"], [\"james m. snell\", \"AbderaSource.java\", \"3\"], [\"james m. snell\", \"TextFilterExample.java\", \"2\"], [\"james m. snell\", \"UnacceptableElementsExample.java\", \"2\"], [\"james m. snell\", \"XPathExample.java\", \"2\"], [\"james m. snell\", \"XsltExample.java\", \"2\"], [\"james m. snell\", \"content.xslt\", \"4\"], [\"james m. snell\", \"test.xslt\", \"4\"], [\"james m. snell\", \"BaseParserTestCase.java\", \"3\"], [\"james m. snell\", \"ThreadConstants.java\", \"2\"], [\"james m. snell\", \"ThreadExtensionFactory.java\", \"2\"], [\"james m. snell\", \"NamedParser.java\", \"2\"], [\"james m. snell\", \"ParserFactory.java\", \"2\"], [\"james m. snell\", \"NamedWriter.java\", \"2\"], [\"james m. snell\", \"Writer.java\", \"2\"], [\"james m. snell\", \"WriterFactory.java\", \"2\"], [\"james m. snell\", \"FOMParserFactory.java\", \"2\"], [\"james m. snell\", \"FOMWriter.java\", \"2\"], [\"james m. snell\", \"FOMWriterFactory.java\", \"2\"]]"
      ],
      "metadata": {
        "id": "SD5IUkEmJZgy"
      },
      "execution_count": null,
      "outputs": []
    },
    {
      "cell_type": "code",
      "source": [
        "a=[[\"james m. snell\", \"Factory.java\", \"7\"], [\"james m. snell\", \"ParseFilter.java\", \"2\"]]"
      ],
      "metadata": {
        "id": "x09lbGhbLRDd"
      },
      "execution_count": null,
      "outputs": []
    },
    {
      "cell_type": "code",
      "source": [
        "n=[[i[0],i[1].split('.')[1],int(i[2])] for i in a]"
      ],
      "metadata": {
        "id": "iPkHoWTBLd57"
      },
      "execution_count": null,
      "outputs": []
    },
    {
      "cell_type": "code",
      "source": [
        "[int(i[2]) for i in a]"
      ],
      "metadata": {
        "colab": {
          "base_uri": "https://localhost:8080/"
        },
        "id": "G9_Yu6XYQZcM",
        "outputId": "bd4b516a-2401-4faf-ece4-5a941d9562b4"
      },
      "execution_count": null,
      "outputs": [
        {
          "output_type": "execute_result",
          "data": {
            "text/plain": [
              "[7, 2]"
            ]
          },
          "metadata": {},
          "execution_count": 48
        }
      ]
    },
    {
      "cell_type": "code",
      "source": [
        "df=pd.DataFrame(n).groupby([0, 1]).sum().reset_index().values.tolist()"
      ],
      "metadata": {
        "id": "WOnCsp3MLd1M"
      },
      "execution_count": null,
      "outputs": []
    },
    {
      "cell_type": "code",
      "source": [
        "df"
      ],
      "metadata": {
        "colab": {
          "base_uri": "https://localhost:8080/"
        },
        "id": "65H2BwVFLdu4",
        "outputId": "c42dfe85-ef2c-4798-81f5-cfcdfa32f3ce"
      },
      "execution_count": null,
      "outputs": [
        {
          "output_type": "execute_result",
          "data": {
            "text/plain": [
              "[['elias torres', 'html', 1],\n",
              " ['elias torres', 'java', 68],\n",
              " ['james m. snell', 'Type', 2],\n",
              " ['james m. snell', 'css', 3],\n",
              " ['james m. snell', 'html', 83],\n",
              " ['james m. snell', 'java', 328],\n",
              " ['james m. snell', 'xslt', 8]]"
            ]
          },
          "metadata": {},
          "execution_count": 74
        }
      ]
    },
    {
      "cell_type": "code",
      "source": [
        "len(os.listdir(result_path))"
      ],
      "metadata": {
        "id": "-9GdSMBXrBAV"
      },
      "execution_count": null,
      "outputs": []
    },
    {
      "cell_type": "code",
      "source": [
        "l=os.listdir(result_path)\n",
        "'p54m5_commits.json' in l"
      ],
      "metadata": {
        "id": "7TD1E2U84MQX"
      },
      "execution_count": null,
      "outputs": []
    },
    {
      "cell_type": "code",
      "source": [
        "n"
      ],
      "metadata": {
        "id": "KaI4cRA00zr6"
      },
      "execution_count": null,
      "outputs": []
    },
    {
      "cell_type": "code",
      "source": [
        ""
      ],
      "metadata": {
        "id": "jS4lnvr70zou"
      },
      "execution_count": null,
      "outputs": []
    },
    {
      "cell_type": "code",
      "source": [
        ""
      ],
      "metadata": {
        "id": "OH5JA8wm0zly"
      },
      "execution_count": null,
      "outputs": []
    },
    {
      "cell_type": "code",
      "source": [
        "print(all_files[f])\n",
        "filez=all_files['airflow__3.edgelist']\n",
        "\n",
        "project_name=filez.split('__',1)[0]\n",
        "month=filez.split('__',1)[1].split('.')[0]\n",
        "df=pd.read_csv(emails_path+'/'+filez,names=['content'])\n",
        "answer=make_the_nested_list(df)\n",
        "# write the file now \n",
        "# print(answer)\n",
        "with open(result_path+'/'+project_name+month+'_email'+'.json', 'w') as f:\n",
        "  f.write(str(answer))"
      ],
      "metadata": {
        "id": "NeYoVxeLpRYz"
      },
      "execution_count": null,
      "outputs": []
    },
    {
      "cell_type": "code",
      "source": [
        "res=[]\n",
        "for f in range(0,1):\n",
        "  # print(all_files[f])\n",
        "  \n",
        "  filez=all_files[f]\n",
        "\n",
        "\n",
        "  project_name=filez.split('__',1)[0]\n",
        "  month=filez.split('__',1)[1].split('.')[0]\n",
        "  df=pd.read_csv(emails_path+'/'+filez,names=['content'])"
      ],
      "metadata": {
        "id": "J_DQhEcFq3DR"
      },
      "execution_count": null,
      "outputs": []
    },
    {
      "cell_type": "code",
      "source": [
        "emails_path='/content/drive/MyDrive/$ Nov Apache Data /network_data/emails'"
      ],
      "metadata": {
        "id": "35rB0oUoD8ZZ"
      },
      "execution_count": null,
      "outputs": []
    },
    {
      "cell_type": "code",
      "source": [
        "all_files.sort()"
      ],
      "metadata": {
        "id": "MfcgA5TMA6Ny"
      },
      "execution_count": null,
      "outputs": []
    },
    {
      "cell_type": "code",
      "source": [
        "all_files"
      ],
      "metadata": {
        "colab": {
          "base_uri": "https://localhost:8080/"
        },
        "id": "mm1N0Aq4A9qz",
        "outputId": "cee81c1f-4279-4690-9beb-2dc5aa9670fb"
      },
      "execution_count": null,
      "outputs": [
        {
          "output_type": "execute_result",
          "data": {
            "text/plain": [
              "['abdera__0.edgelist',\n",
              " 'abdera__1.edgelist',\n",
              " 'abdera__10.edgelist',\n",
              " 'abdera__11.edgelist',\n",
              " 'abdera__12.edgelist',\n",
              " 'abdera__13.edgelist',\n",
              " 'abdera__14.edgelist',\n",
              " 'abdera__15.edgelist',\n",
              " 'abdera__16.edgelist',\n",
              " 'abdera__17.edgelist',\n",
              " 'abdera__18.edgelist',\n",
              " 'abdera__19.edgelist',\n",
              " 'abdera__2.edgelist',\n",
              " 'abdera__20.edgelist',\n",
              " 'abdera__21.edgelist',\n",
              " 'abdera__22.edgelist',\n",
              " 'abdera__23.edgelist',\n",
              " 'abdera__24.edgelist',\n",
              " 'abdera__25.edgelist',\n",
              " 'abdera__26.edgelist',\n",
              " 'abdera__27.edgelist',\n",
              " 'abdera__28.edgelist',\n",
              " 'abdera__3.edgelist',\n",
              " 'abdera__4.edgelist',\n",
              " 'abdera__5.edgelist',\n",
              " 'abdera__6.edgelist',\n",
              " 'abdera__7.edgelist',\n",
              " 'abdera__8.edgelist',\n",
              " 'abdera__9.edgelist',\n",
              " 'accumulo__1.edgelist',\n",
              " 'accumulo__2.edgelist',\n",
              " 'accumulo__3.edgelist',\n",
              " 'accumulo__4.edgelist',\n",
              " 'accumulo__5.edgelist',\n",
              " 'ace__1.edgelist',\n",
              " 'ace__10.edgelist',\n",
              " 'ace__11.edgelist',\n",
              " 'ace__12.edgelist',\n",
              " 'ace__13.edgelist',\n",
              " 'ace__14.edgelist',\n",
              " 'ace__15.edgelist',\n",
              " 'ace__16.edgelist',\n",
              " 'ace__17.edgelist',\n",
              " 'ace__18.edgelist',\n",
              " 'ace__19.edgelist',\n",
              " 'ace__2.edgelist',\n",
              " 'ace__20.edgelist',\n",
              " 'ace__21.edgelist',\n",
              " 'ace__22.edgelist',\n",
              " 'ace__23.edgelist',\n",
              " 'ace__24.edgelist',\n",
              " 'ace__25.edgelist',\n",
              " 'ace__26.edgelist',\n",
              " 'ace__27.edgelist',\n",
              " 'ace__28.edgelist',\n",
              " 'ace__29.edgelist',\n",
              " 'ace__3.edgelist',\n",
              " 'ace__30.edgelist',\n",
              " 'ace__31.edgelist',\n",
              " 'ace__4.edgelist',\n",
              " 'ace__6.edgelist',\n",
              " 'ace__7.edgelist',\n",
              " 'ace__8.edgelist',\n",
              " 'ace__9.edgelist',\n",
              " 'activemq__0.edgelist',\n",
              " 'activemq__1.edgelist',\n",
              " 'activemq__10.edgelist',\n",
              " 'activemq__11.edgelist',\n",
              " 'activemq__12.edgelist',\n",
              " 'activemq__13.edgelist',\n",
              " 'activemq__2.edgelist',\n",
              " 'activemq__3.edgelist',\n",
              " 'activemq__4.edgelist',\n",
              " 'activemq__5.edgelist',\n",
              " 'activemq__6.edgelist',\n",
              " 'activemq__7.edgelist',\n",
              " 'activemq__8.edgelist',\n",
              " 'activemq__9.edgelist',\n",
              " 'adffaces__1.edgelist',\n",
              " 'adffaces__10.edgelist',\n",
              " 'adffaces__11.edgelist',\n",
              " 'adffaces__12.edgelist',\n",
              " 'adffaces__2.edgelist',\n",
              " 'adffaces__3.edgelist',\n",
              " 'adffaces__4.edgelist',\n",
              " 'adffaces__5.edgelist',\n",
              " 'adffaces__6.edgelist',\n",
              " 'adffaces__7.edgelist',\n",
              " 'adffaces__8.edgelist',\n",
              " 'adffaces__9.edgelist',\n",
              " 'agila__10.edgelist',\n",
              " 'agila__11.edgelist',\n",
              " 'agila__13.edgelist',\n",
              " 'agila__14.edgelist',\n",
              " 'agila__15.edgelist',\n",
              " 'agila__16.edgelist',\n",
              " 'agila__18.edgelist',\n",
              " 'agila__5.edgelist',\n",
              " 'agila__6.edgelist',\n",
              " 'agila__8.edgelist',\n",
              " 'airavata__0.edgelist',\n",
              " 'airavata__1.edgelist',\n",
              " 'airavata__10.edgelist',\n",
              " 'airavata__11.edgelist',\n",
              " 'airavata__12.edgelist',\n",
              " 'airavata__13.edgelist',\n",
              " 'airavata__14.edgelist',\n",
              " 'airavata__15.edgelist',\n",
              " 'airavata__2.edgelist',\n",
              " 'airavata__3.edgelist',\n",
              " 'airavata__4.edgelist',\n",
              " 'airavata__5.edgelist',\n",
              " 'airavata__6.edgelist',\n",
              " 'airavata__7.edgelist',\n",
              " 'airavata__8.edgelist',\n",
              " 'airavata__9.edgelist',\n",
              " 'airflow__2.edgelist',\n",
              " 'allura__10.edgelist',\n",
              " 'allura__11.edgelist',\n",
              " 'allura__12.edgelist',\n",
              " 'allura__13.edgelist',\n",
              " 'allura__14.edgelist',\n",
              " 'allura__15.edgelist',\n",
              " 'allura__16.edgelist',\n",
              " 'allura__17.edgelist',\n",
              " 'allura__18.edgelist',\n",
              " 'allura__19.edgelist',\n",
              " 'allura__20.edgelist',\n",
              " 'allura__3.edgelist',\n",
              " 'allura__4.edgelist',\n",
              " 'allura__5.edgelist',\n",
              " 'allura__6.edgelist',\n",
              " 'allura__7.edgelist',\n",
              " 'allura__8.edgelist',\n",
              " 'allura__9.edgelist',\n",
              " 'alois__2.edgelist',\n",
              " 'alois__3.edgelist',\n",
              " 'alois__4.edgelist',\n",
              " 'alois__5.edgelist',\n",
              " 'alois__6.edgelist',\n",
              " 'alois__7.edgelist',\n",
              " 'amaterasu__0.edgelist',\n",
              " 'amaterasu__1.edgelist',\n",
              " 'amaterasu__10.edgelist',\n",
              " 'amaterasu__13.edgelist',\n",
              " 'amaterasu__21.edgelist',\n",
              " 'amaterasu__7.edgelist',\n",
              " 'amaterasu__8.edgelist',\n",
              " 'amaterasu__9.edgelist',\n",
              " 'ambari__1.edgelist',\n",
              " 'ambari__10.edgelist',\n",
              " 'ambari__11.edgelist',\n",
              " 'ambari__12.edgelist',\n",
              " 'ambari__13.edgelist',\n",
              " 'ambari__14.edgelist',\n",
              " 'ambari__15.edgelist',\n",
              " 'ambari__16.edgelist',\n",
              " 'ambari__17.edgelist',\n",
              " 'ambari__18.edgelist',\n",
              " 'ambari__19.edgelist',\n",
              " 'ambari__2.edgelist',\n",
              " 'ambari__20.edgelist',\n",
              " 'ambari__21.edgelist',\n",
              " 'ambari__22.edgelist',\n",
              " 'ambari__23.edgelist',\n",
              " 'ambari__24.edgelist',\n",
              " 'ambari__25.edgelist',\n",
              " 'ambari__26.edgelist',\n",
              " 'ambari__3.edgelist',\n",
              " 'ambari__4.edgelist',\n",
              " 'ambari__5.edgelist',\n",
              " 'ambari__9.edgelist',\n",
              " 'ant__0.edgelist',\n",
              " 'ant__1.edgelist',\n",
              " 'ant__10.edgelist',\n",
              " 'ant__11.edgelist',\n",
              " 'ant__12.edgelist',\n",
              " 'ant__13.edgelist',\n",
              " 'ant__14.edgelist',\n",
              " 'ant__15.edgelist',\n",
              " 'ant__16.edgelist',\n",
              " 'ant__17.edgelist',\n",
              " 'ant__18.edgelist',\n",
              " 'ant__19.edgelist',\n",
              " 'ant__2.edgelist',\n",
              " 'ant__20.edgelist',\n",
              " 'ant__21.edgelist',\n",
              " 'ant__22.edgelist',\n",
              " 'ant__23.edgelist',\n",
              " 'ant__24.edgelist',\n",
              " 'ant__25.edgelist',\n",
              " 'ant__3.edgelist',\n",
              " 'ant__4.edgelist',\n",
              " 'ant__5.edgelist',\n",
              " 'ant__6.edgelist',\n",
              " 'ant__7.edgelist',\n",
              " 'ant__8.edgelist',\n",
              " 'ant__9.edgelist',\n",
              " 'any23__3.edgelist',\n",
              " 'any23__4.edgelist',\n",
              " 'any23__5.edgelist',\n",
              " 'any23__6.edgelist',\n",
              " 'any23__7.edgelist',\n",
              " 'any23__8.edgelist',\n",
              " 'any23__9.edgelist',\n",
              " 'apex__0.edgelist',\n",
              " 'apex__1.edgelist',\n",
              " 'apex__2.edgelist',\n",
              " 'apex__3.edgelist',\n",
              " 'apex__4.edgelist',\n",
              " 'apex__5.edgelist',\n",
              " 'apex__6.edgelist',\n",
              " 'apex__7.edgelist',\n",
              " 'apisix__0.edgelist',\n",
              " 'apisix__1.edgelist',\n",
              " 'apisix__2.edgelist',\n",
              " 'apisix__3.edgelist',\n",
              " 'apisix__4.edgelist',\n",
              " 'apisix__5.edgelist',\n",
              " 'apisix__6.edgelist',\n",
              " 'apisix__7.edgelist',\n",
              " 'apisix__8.edgelist',\n",
              " 'ariatosca__10.edgelist',\n",
              " 'ariatosca__11.edgelist',\n",
              " 'ariatosca__12.edgelist',\n",
              " 'ariatosca__13.edgelist',\n",
              " 'ariatosca__14.edgelist',\n",
              " 'ariatosca__15.edgelist',\n",
              " 'ariatosca__16.edgelist',\n",
              " 'ariatosca__17.edgelist',\n",
              " 'ariatosca__2.edgelist',\n",
              " 'ariatosca__3.edgelist',\n",
              " 'ariatosca__4.edgelist',\n",
              " 'ariatosca__5.edgelist',\n",
              " 'ariatosca__6.edgelist',\n",
              " 'ariatosca__7.edgelist',\n",
              " 'ariatosca__8.edgelist',\n",
              " 'ariatosca__9.edgelist',\n",
              " 'aries__0.edgelist',\n",
              " 'aries__1.edgelist',\n",
              " 'aries__10.edgelist',\n",
              " 'aries__11.edgelist',\n",
              " 'aries__12.edgelist',\n",
              " 'aries__13.edgelist',\n",
              " 'aries__14.edgelist',\n",
              " 'aries__2.edgelist',\n",
              " 'aries__3.edgelist',\n",
              " 'aries__4.edgelist',\n",
              " 'aries__5.edgelist',\n",
              " 'aries__6.edgelist',\n",
              " 'aries__7.edgelist',\n",
              " 'aries__8.edgelist',\n",
              " 'aries__9.edgelist',\n",
              " 'asterixdb__10.edgelist',\n",
              " 'asterixdb__11.edgelist',\n",
              " 'asterixdb__12.edgelist',\n",
              " 'asterixdb__13.edgelist',\n",
              " 'asterixdb__2.edgelist',\n",
              " 'asterixdb__3.edgelist',\n",
              " 'asterixdb__4.edgelist',\n",
              " 'asterixdb__5.edgelist',\n",
              " 'asterixdb__6.edgelist',\n",
              " 'asterixdb__7.edgelist',\n",
              " 'asterixdb__8.edgelist',\n",
              " 'asterixdb__9.edgelist',\n",
              " 'atlas__0.edgelist',\n",
              " 'atlas__1.edgelist',\n",
              " 'atlas__10.edgelist',\n",
              " 'atlas__11.edgelist',\n",
              " 'atlas__12.edgelist',\n",
              " 'atlas__13.edgelist',\n",
              " 'atlas__14.edgelist',\n",
              " 'atlas__15.edgelist',\n",
              " 'atlas__16.edgelist',\n",
              " 'atlas__17.edgelist',\n",
              " 'atlas__18.edgelist',\n",
              " 'atlas__19.edgelist',\n",
              " 'atlas__2.edgelist',\n",
              " 'atlas__20.edgelist',\n",
              " 'atlas__21.edgelist',\n",
              " 'atlas__22.edgelist',\n",
              " 'atlas__23.edgelist',\n",
              " 'atlas__24.edgelist',\n",
              " 'atlas__3.edgelist',\n",
              " 'atlas__4.edgelist',\n",
              " 'atlas__5.edgelist',\n",
              " 'atlas__6.edgelist',\n",
              " 'atlas__7.edgelist',\n",
              " 'atlas__8.edgelist',\n",
              " 'atlas__9.edgelist',\n",
              " 'aurora__1.edgelist',\n",
              " 'aurora__10.edgelist',\n",
              " 'aurora__11.edgelist',\n",
              " 'aurora__12.edgelist',\n",
              " 'aurora__13.edgelist',\n",
              " 'aurora__14.edgelist',\n",
              " 'aurora__15.edgelist',\n",
              " 'aurora__16.edgelist',\n",
              " 'aurora__2.edgelist',\n",
              " 'aurora__3.edgelist',\n",
              " 'aurora__4.edgelist',\n",
              " 'aurora__5.edgelist',\n",
              " 'aurora__6.edgelist',\n",
              " 'aurora__7.edgelist',\n",
              " 'aurora__8.edgelist',\n",
              " 'aurora__9.edgelist',\n",
              " 'awf__0.edgelist',\n",
              " 'awf__1.edgelist',\n",
              " 'awf__2.edgelist',\n",
              " 'awf__3.edgelist',\n",
              " 'awf__7.edgelist',\n",
              " 'awf__8.edgelist',\n",
              " 'batchee__1.edgelist',\n",
              " 'batchee__10.edgelist',\n",
              " 'batchee__12.edgelist',\n",
              " 'batchee__13.edgelist',\n",
              " 'batchee__14.edgelist',\n",
              " 'batchee__15.edgelist',\n",
              " 'batchee__17.edgelist',\n",
              " 'batchee__2.edgelist',\n",
              " 'batchee__24.edgelist',\n",
              " 'batchee__25.edgelist',\n",
              " 'batchee__26.edgelist',\n",
              " 'batchee__28.edgelist',\n",
              " 'batchee__29.edgelist',\n",
              " 'batchee__3.edgelist',\n",
              " 'batchee__30.edgelist',\n",
              " 'batchee__31.edgelist',\n",
              " 'batchee__34.edgelist',\n",
              " 'batchee__35.edgelist',\n",
              " 'batchee__38.edgelist',\n",
              " 'batchee__39.edgelist',\n",
              " 'batchee__4.edgelist',\n",
              " 'batchee__41.edgelist',\n",
              " 'batchee__44.edgelist',\n",
              " 'batchee__49.edgelist',\n",
              " 'batchee__5.edgelist',\n",
              " 'batchee__50.edgelist',\n",
              " 'batchee__53.edgelist',\n",
              " 'batchee__57.edgelist',\n",
              " 'batchee__6.edgelist',\n",
              " 'batchee__61.edgelist',\n",
              " 'batchee__68.edgelist',\n",
              " 'batchee__7.edgelist',\n",
              " 'batchee__8.edgelist',\n",
              " 'batchee__9.edgelist',\n",
              " 'beam__0.edgelist',\n",
              " 'beehive__10.edgelist',\n",
              " 'beehive__11.edgelist',\n",
              " 'beehive__12.edgelist',\n",
              " 'beehive__13.edgelist',\n",
              " 'beehive__8.edgelist',\n",
              " 'beehive__9.edgelist',\n",
              " 'bigtop__1.edgelist',\n",
              " 'bigtop__10.edgelist',\n",
              " 'bigtop__11.edgelist',\n",
              " 'bigtop__12.edgelist',\n",
              " 'bigtop__13.edgelist',\n",
              " 'bigtop__14.edgelist',\n",
              " 'bigtop__2.edgelist',\n",
              " 'bigtop__3.edgelist',\n",
              " 'bigtop__4.edgelist',\n",
              " 'bigtop__5.edgelist',\n",
              " 'bigtop__6.edgelist',\n",
              " 'bigtop__7.edgelist',\n",
              " 'bigtop__8.edgelist',\n",
              " 'bigtop__9.edgelist',\n",
              " 'bloodhound__1.edgelist',\n",
              " 'bloodhound__10.edgelist',\n",
              " 'bloodhound__11.edgelist',\n",
              " 'bloodhound__12.edgelist',\n",
              " 'bloodhound__13.edgelist',\n",
              " 'bloodhound__14.edgelist',\n",
              " 'bloodhound__2.edgelist',\n",
              " 'bloodhound__3.edgelist',\n",
              " 'bloodhound__4.edgelist',\n",
              " 'bloodhound__5.edgelist',\n",
              " 'bloodhound__6.edgelist',\n",
              " 'bloodhound__7.edgelist',\n",
              " 'bloodhound__8.edgelist',\n",
              " 'bloodhound__9.edgelist',\n",
              " 'bluesky__14.edgelist',\n",
              " 'bluesky__16.edgelist',\n",
              " 'bluesky__20.edgelist',\n",
              " 'bluesky__21.edgelist',\n",
              " 'bluesky__22.edgelist',\n",
              " 'bluesky__23.edgelist',\n",
              " 'bluesky__24.edgelist',\n",
              " 'bluesky__3.edgelist',\n",
              " 'bluesky__32.edgelist',\n",
              " 'bluesky__33.edgelist',\n",
              " 'bluesky__35.edgelist',\n",
              " 'bluesky__4.edgelist',\n",
              " 'bluesky__5.edgelist',\n",
              " 'bluesky__6.edgelist',\n",
              " 'bluesky__7.edgelist',\n",
              " 'bluesky__8.edgelist',\n",
              " 'blur__1.edgelist',\n",
              " 'blur__10.edgelist',\n",
              " 'blur__11.edgelist',\n",
              " 'blur__12.edgelist',\n",
              " 'blur__13.edgelist',\n",
              " 'blur__14.edgelist',\n",
              " 'blur__15.edgelist',\n",
              " 'blur__16.edgelist',\n",
              " 'blur__17.edgelist',\n",
              " 'blur__18.edgelist',\n",
              " 'blur__19.edgelist',\n",
              " 'blur__2.edgelist',\n",
              " 'blur__20.edgelist',\n",
              " 'blur__21.edgelist',\n",
              " 'blur__22.edgelist',\n",
              " 'blur__23.edgelist',\n",
              " 'blur__24.edgelist',\n",
              " 'blur__25.edgelist',\n",
              " 'blur__26.edgelist',\n",
              " 'blur__27.edgelist',\n",
              " 'blur__28.edgelist',\n",
              " 'blur__29.edgelist',\n",
              " 'blur__3.edgelist',\n",
              " 'blur__30.edgelist',\n",
              " 'blur__31.edgelist',\n",
              " 'blur__32.edgelist',\n",
              " 'blur__33.edgelist',\n",
              " 'blur__34.edgelist',\n",
              " 'blur__35.edgelist',\n",
              " 'blur__36.edgelist',\n",
              " 'blur__37.edgelist',\n",
              " 'blur__38.edgelist',\n",
              " 'blur__39.edgelist',\n",
              " 'blur__4.edgelist',\n",
              " 'blur__40.edgelist',\n",
              " 'blur__41.edgelist',\n",
              " 'blur__42.edgelist',\n",
              " 'blur__43.edgelist',\n",
              " 'blur__47.edgelist',\n",
              " 'blur__49.edgelist',\n",
              " 'blur__5.edgelist',\n",
              " 'blur__50.edgelist',\n",
              " 'blur__6.edgelist',\n",
              " 'blur__7.edgelist',\n",
              " 'blur__8.edgelist',\n",
              " 'blur__9.edgelist',\n",
              " 'bookkeeper__0.edgelist',\n",
              " 'bookkeeper__1.edgelist',\n",
              " 'bookkeeper__10.edgelist',\n",
              " 'bookkeeper__11.edgelist',\n",
              " 'bookkeeper__12.edgelist',\n",
              " 'bookkeeper__2.edgelist',\n",
              " 'bookkeeper__3.edgelist',\n",
              " 'bookkeeper__4.edgelist',\n",
              " 'bookkeeper__5.edgelist',\n",
              " 'bookkeeper__6.edgelist',\n",
              " 'bookkeeper__7.edgelist',\n",
              " 'bookkeeper__8.edgelist',\n",
              " 'bookkeeper__9.edgelist',\n",
              " 'brooklyn__0.edgelist',\n",
              " 'brooklyn__1.edgelist',\n",
              " 'buildr__0.edgelist',\n",
              " 'buildr__1.edgelist',\n",
              " 'buildr__10.edgelist',\n",
              " 'buildr__11.edgelist',\n",
              " 'buildr__12.edgelist',\n",
              " 'buildr__13.edgelist',\n",
              " 'buildr__14.edgelist',\n",
              " 'buildr__2.edgelist',\n",
              " 'buildr__3.edgelist',\n",
              " 'buildr__4.edgelist',\n",
              " 'buildr__5.edgelist',\n",
              " 'buildr__6.edgelist',\n",
              " 'buildr__7.edgelist',\n",
              " 'buildr__8.edgelist',\n",
              " 'buildr__9.edgelist',\n",
              " 'bval__0.edgelist',\n",
              " 'bval__1.edgelist',\n",
              " 'bval__10.edgelist',\n",
              " 'bval__11.edgelist',\n",
              " 'bval__12.edgelist',\n",
              " 'bval__13.edgelist',\n",
              " 'bval__14.edgelist',\n",
              " 'bval__15.edgelist',\n",
              " 'bval__16.edgelist',\n",
              " 'bval__17.edgelist',\n",
              " 'bval__18.edgelist',\n",
              " 'bval__19.edgelist',\n",
              " 'bval__2.edgelist',\n",
              " 'bval__21.edgelist',\n",
              " 'bval__22.edgelist',\n",
              " 'bval__3.edgelist',\n",
              " 'bval__4.edgelist',\n",
              " 'bval__5.edgelist',\n",
              " 'bval__6.edgelist',\n",
              " 'bval__7.edgelist',\n",
              " 'bval__8.edgelist',\n",
              " 'bval__9.edgelist',\n",
              " 'calcite__1.edgelist',\n",
              " 'calcite__10.edgelist',\n",
              " 'calcite__11.edgelist',\n",
              " 'calcite__12.edgelist',\n",
              " 'calcite__13.edgelist',\n",
              " 'calcite__2.edgelist',\n",
              " 'calcite__3.edgelist',\n",
              " 'calcite__4.edgelist',\n",
              " 'calcite__5.edgelist',\n",
              " 'calcite__6.edgelist',\n",
              " 'calcite__7.edgelist',\n",
              " 'calcite__8.edgelist',\n",
              " 'calcite__9.edgelist',\n",
              " 'carbondata__0.edgelist',\n",
              " 'carbondata__1.edgelist',\n",
              " 'cassandra__12.edgelist',\n",
              " 'cassandra__2.edgelist',\n",
              " 'cassandra__3.edgelist',\n",
              " 'cayenne__1.edgelist',\n",
              " 'cayenne__2.edgelist',\n",
              " 'cayenne__3.edgelist',\n",
              " 'cayenne__4.edgelist',\n",
              " 'cayenne__5.edgelist',\n",
              " 'cayenne__6.edgelist',\n",
              " 'cayenne__7.edgelist',\n",
              " 'cayenne__8.edgelist',\n",
              " 'celix__1.edgelist',\n",
              " 'celix__10.edgelist',\n",
              " 'celix__11.edgelist',\n",
              " 'celix__12.edgelist',\n",
              " 'celix__13.edgelist',\n",
              " 'celix__14.edgelist',\n",
              " 'celix__15.edgelist',\n",
              " 'celix__16.edgelist',\n",
              " 'celix__17.edgelist',\n",
              " 'celix__18.edgelist',\n",
              " 'celix__19.edgelist',\n",
              " 'celix__2.edgelist',\n",
              " 'celix__20.edgelist',\n",
              " 'celix__21.edgelist',\n",
              " 'celix__22.edgelist',\n",
              " 'celix__23.edgelist',\n",
              " 'celix__24.edgelist',\n",
              " 'celix__25.edgelist',\n",
              " 'celix__26.edgelist',\n",
              " 'celix__27.edgelist',\n",
              " 'celix__29.edgelist',\n",
              " 'celix__3.edgelist',\n",
              " 'celix__30.edgelist',\n",
              " 'celix__31.edgelist',\n",
              " 'celix__32.edgelist',\n",
              " 'celix__34.edgelist',\n",
              " 'celix__35.edgelist',\n",
              " 'celix__36.edgelist',\n",
              " 'celix__37.edgelist',\n",
              " 'celix__38.edgelist',\n",
              " 'celix__39.edgelist',\n",
              " 'celix__40.edgelist',\n",
              " 'celix__41.edgelist',\n",
              " 'celix__42.edgelist',\n",
              " 'celix__43.edgelist',\n",
              " 'celix__5.edgelist',\n",
              " 'celix__6.edgelist',\n",
              " 'celix__7.edgelist',\n",
              " 'celix__8.edgelist',\n",
              " 'celix__9.edgelist',\n",
              " 'chemistry__1.edgelist',\n",
              " 'chemistry__2.edgelist',\n",
              " 'chemistry__3.edgelist',\n",
              " 'chemistry__4.edgelist',\n",
              " 'chemistry__5.edgelist',\n",
              " 'chemistry__6.edgelist',\n",
              " 'chemistry__7.edgelist',\n",
              " 'chemistry__8.edgelist',\n",
              " 'chemistry__9.edgelist',\n",
              " 'chukwa__0.edgelist',\n",
              " 'chukwa__1.edgelist',\n",
              " 'chukwa__10.edgelist',\n",
              " 'chukwa__11.edgelist',\n",
              " 'chukwa__12.edgelist',\n",
              " 'chukwa__13.edgelist',\n",
              " 'chukwa__14.edgelist',\n",
              " 'chukwa__16.edgelist',\n",
              " 'chukwa__17.edgelist',\n",
              " 'chukwa__18.edgelist',\n",
              " 'chukwa__19.edgelist',\n",
              " 'chukwa__2.edgelist',\n",
              " 'chukwa__20.edgelist',\n",
              " 'chukwa__21.edgelist',\n",
              " 'chukwa__22.edgelist',\n",
              " 'chukwa__23.edgelist',\n",
              " 'chukwa__24.edgelist',\n",
              " 'chukwa__25.edgelist',\n",
              " 'chukwa__26.edgelist',\n",
              " 'chukwa__28.edgelist',\n",
              " 'chukwa__29.edgelist',\n",
              " 'chukwa__3.edgelist',\n",
              " 'chukwa__32.edgelist',\n",
              " 'chukwa__33.edgelist',\n",
              " 'chukwa__35.edgelist',\n",
              " 'chukwa__36.edgelist',\n",
              " 'chukwa__37.edgelist',\n",
              " 'chukwa__4.edgelist',\n",
              " 'chukwa__5.edgelist',\n",
              " 'chukwa__6.edgelist',\n",
              " 'chukwa__7.edgelist',\n",
              " 'clerezza__1.edgelist',\n",
              " 'clerezza__10.edgelist',\n",
              " 'clerezza__11.edgelist',\n",
              " 'clerezza__12.edgelist',\n",
              " 'clerezza__13.edgelist',\n",
              " 'clerezza__14.edgelist',\n",
              " 'clerezza__15.edgelist',\n",
              " 'clerezza__16.edgelist',\n",
              " 'clerezza__17.edgelist',\n",
              " 'clerezza__18.edgelist',\n",
              " 'clerezza__19.edgelist',\n",
              " 'clerezza__2.edgelist',\n",
              " 'clerezza__20.edgelist',\n",
              " 'clerezza__21.edgelist',\n",
              " 'clerezza__22.edgelist',\n",
              " 'clerezza__23.edgelist',\n",
              " 'clerezza__24.edgelist',\n",
              " 'clerezza__25.edgelist',\n",
              " 'clerezza__26.edgelist',\n",
              " 'clerezza__27.edgelist',\n",
              " 'clerezza__28.edgelist',\n",
              " 'clerezza__3.edgelist',\n",
              " 'clerezza__30.edgelist',\n",
              " 'clerezza__31.edgelist',\n",
              " 'clerezza__32.edgelist',\n",
              " 'clerezza__33.edgelist',\n",
              " 'clerezza__34.edgelist',\n",
              " 'clerezza__35.edgelist',\n",
              " 'clerezza__36.edgelist',\n",
              " 'clerezza__37.edgelist',\n",
              " 'clerezza__38.edgelist',\n",
              " 'clerezza__4.edgelist',\n",
              " 'clerezza__5.edgelist',\n",
              " 'clerezza__6.edgelist',\n",
              " 'clerezza__7.edgelist',\n",
              " 'clerezza__8.edgelist',\n",
              " 'clerezza__9.edgelist',\n",
              " 'click__10.edgelist',\n",
              " 'click__11.edgelist',\n",
              " 'click__12.edgelist',\n",
              " 'click__13.edgelist',\n",
              " 'click__14.edgelist',\n",
              " 'click__15.edgelist',\n",
              " 'click__4.edgelist',\n",
              " 'click__5.edgelist',\n",
              " 'click__6.edgelist',\n",
              " 'click__7.edgelist',\n",
              " 'click__8.edgelist',\n",
              " 'click__9.edgelist',\n",
              " 'climate__0.edgelist',\n",
              " 'climate__1.edgelist',\n",
              " 'climate__10.edgelist',\n",
              " 'climate__11.edgelist',\n",
              " 'climate__2.edgelist',\n",
              " 'climate__3.edgelist',\n",
              " 'climate__4.edgelist',\n",
              " 'climate__5.edgelist',\n",
              " 'climate__6.edgelist',\n",
              " 'climate__7.edgelist',\n",
              " 'climate__8.edgelist',\n",
              " 'climate__9.edgelist',\n",
              " 'cloudstack__1.edgelist',\n",
              " 'cloudstack__2.edgelist',\n",
              " 'cloudstack__3.edgelist',\n",
              " 'cloudstack__4.edgelist',\n",
              " 'cloudstack__5.edgelist',\n",
              " 'cloudstack__6.edgelist',\n",
              " 'cloudstack__7.edgelist',\n",
              " 'cloudstack__8.edgelist',\n",
              " 'cloudstack__9.edgelist',\n",
              " 'cmda__14.edgelist',\n",
              " 'cmda__4.edgelist',\n",
              " 'cmda__6.edgelist',\n",
              " 'commons__0.edgelist',\n",
              " 'commons__1.edgelist',\n",
              " 'commonsrdf__0.edgelist',\n",
              " 'composer__2.edgelist',\n",
              " 'composer__3.edgelist',\n",
              " 'composer__4.edgelist',\n",
              " 'concerted__0.edgelist',\n",
              " 'concerted__1.edgelist',\n",
              " 'cordova__3.edgelist',\n",
              " 'cordova__4.edgelist',\n",
              " 'cordova__5.edgelist',\n",
              " 'cordova__6.edgelist',\n",
              " 'cordova__7.edgelist',\n",
              " 'cordova__8.edgelist',\n",
              " 'cordova__9.edgelist',\n",
              " 'corinthia__0.edgelist',\n",
              " 'corinthia__1.edgelist',\n",
              " 'corinthia__2.edgelist',\n",
              " 'corinthia__3.edgelist',\n",
              " 'corinthia__4.edgelist',\n",
              " 'corinthia__5.edgelist',\n",
              " 'corinthia__6.edgelist',\n",
              " 'corinthia__7.edgelist',\n",
              " 'corinthia__8.edgelist',\n",
              " 'couchdb__0.edgelist',\n",
              " 'couchdb__1.edgelist',\n",
              " 'couchdb__2.edgelist',\n",
              " 'couchdb__3.edgelist',\n",
              " 'couchdb__4.edgelist',\n",
              " 'couchdb__5.edgelist',\n",
              " 'couchdb__6.edgelist',\n",
              " 'couchdb__7.edgelist',\n",
              " 'couchdb__8.edgelist',\n",
              " 'crunch__1.edgelist',\n",
              " 'crunch__2.edgelist',\n",
              " 'crunch__3.edgelist',\n",
              " 'crunch__4.edgelist',\n",
              " 'crunch__5.edgelist',\n",
              " 'crunch__6.edgelist',\n",
              " 'crunch__7.edgelist',\n",
              " 'crunch__8.edgelist',\n",
              " 'ctakes__0.edgelist',\n",
              " 'ctakes__1.edgelist',\n",
              " 'ctakes__2.edgelist',\n",
              " 'ctakes__3.edgelist',\n",
              " 'ctakes__4.edgelist',\n",
              " 'ctakes__5.edgelist',\n",
              " 'ctakes__6.edgelist',\n",
              " 'ctakes__7.edgelist',\n",
              " 'ctakes__8.edgelist',\n",
              " 'curator__0.edgelist',\n",
              " 'curator__1.edgelist',\n",
              " 'curator__2.edgelist',\n",
              " 'curator__3.edgelist',\n",
              " 'curator__4.edgelist',\n",
              " 'curator__5.edgelist',\n",
              " 'cxf__0.edgelist',\n",
              " 'cxf__1.edgelist',\n",
              " 'cxf__10.edgelist',\n",
              " 'cxf__11.edgelist',\n",
              " 'cxf__12.edgelist',\n",
              " 'cxf__13.edgelist',\n",
              " 'cxf__14.edgelist',\n",
              " 'cxf__15.edgelist',\n",
              " 'cxf__16.edgelist',\n",
              " 'cxf__17.edgelist',\n",
              " 'cxf__18.edgelist',\n",
              " 'cxf__19.edgelist',\n",
              " 'cxf__2.edgelist',\n",
              " 'cxf__3.edgelist',\n",
              " 'cxf__4.edgelist',\n",
              " 'cxf__5.edgelist',\n",
              " 'cxf__6.edgelist',\n",
              " 'cxf__7.edgelist',\n",
              " 'cxf__8.edgelist',\n",
              " 'cxf__9.edgelist',\n",
              " 'daffodil__10.edgelist',\n",
              " 'daffodil__11.edgelist',\n",
              " 'daffodil__12.edgelist',\n",
              " 'daffodil__13.edgelist',\n",
              " 'daffodil__14.edgelist',\n",
              " 'daffodil__15.edgelist',\n",
              " 'daffodil__16.edgelist',\n",
              " 'daffodil__17.edgelist',\n",
              " 'daffodil__18.edgelist',\n",
              " 'daffodil__19.edgelist',\n",
              " 'daffodil__20.edgelist',\n",
              " 'daffodil__21.edgelist',\n",
              " 'daffodil__22.edgelist',\n",
              " 'daffodil__23.edgelist',\n",
              " 'daffodil__24.edgelist',\n",
              " 'daffodil__25.edgelist',\n",
              " 'daffodil__26.edgelist',\n",
              " 'daffodil__27.edgelist',\n",
              " 'daffodil__28.edgelist',\n",
              " 'daffodil__29.edgelist',\n",
              " 'daffodil__3.edgelist',\n",
              " 'daffodil__30.edgelist',\n",
              " 'daffodil__31.edgelist',\n",
              " 'daffodil__32.edgelist',\n",
              " 'daffodil__33.edgelist',\n",
              " 'daffodil__34.edgelist',\n",
              " 'daffodil__35.edgelist',\n",
              " 'daffodil__36.edgelist',\n",
              " 'daffodil__37.edgelist',\n",
              " 'daffodil__38.edgelist',\n",
              " 'daffodil__39.edgelist',\n",
              " 'daffodil__4.edgelist',\n",
              " 'daffodil__40.edgelist',\n",
              " 'daffodil__41.edgelist',\n",
              " 'daffodil__5.edgelist',\n",
              " 'daffodil__6.edgelist',\n",
              " 'daffodil__7.edgelist',\n",
              " 'daffodil__8.edgelist',\n",
              " 'daffodil__9.edgelist',\n",
              " 'datafu__0.edgelist',\n",
              " 'datafu__1.edgelist',\n",
              " 'datafu__10.edgelist',\n",
              " 'datafu__12.edgelist',\n",
              " 'datafu__16.edgelist',\n",
              " 'datafu__17.edgelist',\n",
              " 'datafu__19.edgelist',\n",
              " 'datafu__2.edgelist',\n",
              " 'datafu__21.edgelist',\n",
              " 'datafu__22.edgelist',\n",
              " 'datafu__23.edgelist',\n",
              " 'datafu__25.edgelist',\n",
              " 'datafu__26.edgelist',\n",
              " 'datafu__29.edgelist',\n",
              " 'datafu__3.edgelist',\n",
              " 'datafu__30.edgelist',\n",
              " 'datafu__31.edgelist',\n",
              " 'datafu__33.edgelist',\n",
              " 'datafu__37.edgelist',\n",
              " 'datafu__38.edgelist',\n",
              " 'datafu__39.edgelist',\n",
              " 'datafu__4.edgelist',\n",
              " 'datafu__42.edgelist',\n",
              " 'datafu__43.edgelist',\n",
              " 'datafu__44.edgelist',\n",
              " 'datafu__45.edgelist',\n",
              " 'datafu__46.edgelist',\n",
              " 'datafu__48.edgelist',\n",
              " 'datafu__6.edgelist',\n",
              " 'datafu__7.edgelist',\n",
              " 'datafu__8.edgelist',\n",
              " 'datasketches__10.edgelist',\n",
              " 'datasketches__11.edgelist',\n",
              " 'datasketches__12.edgelist',\n",
              " 'datasketches__13.edgelist',\n",
              " 'datasketches__14.edgelist',\n",
              " 'datasketches__15.edgelist',\n",
              " 'datasketches__16.edgelist',\n",
              " 'datasketches__17.edgelist',\n",
              " 'datasketches__18.edgelist',\n",
              " 'datasketches__19.edgelist',\n",
              " 'datasketches__2.edgelist',\n",
              " 'datasketches__20.edgelist',\n",
              " 'datasketches__3.edgelist',\n",
              " 'datasketches__4.edgelist',\n",
              " 'datasketches__5.edgelist',\n",
              " 'datasketches__6.edgelist',\n",
              " 'datasketches__7.edgelist',\n",
              " 'datasketches__8.edgelist',\n",
              " 'datasketches__9.edgelist',\n",
              " 'deltacloud__1.edgelist',\n",
              " 'deltacloud__10.edgelist',\n",
              " 'deltacloud__11.edgelist',\n",
              " 'deltacloud__12.edgelist',\n",
              " 'deltacloud__13.edgelist',\n",
              " 'deltacloud__14.edgelist',\n",
              " 'deltacloud__15.edgelist',\n",
              " 'deltacloud__16.edgelist',\n",
              " 'deltacloud__2.edgelist',\n",
              " 'deltacloud__3.edgelist',\n",
              " 'deltacloud__4.edgelist',\n",
              " 'deltacloud__5.edgelist',\n",
              " 'deltacloud__6.edgelist',\n",
              " 'deltacloud__7.edgelist',\n",
              " 'deltacloud__8.edgelist',\n",
              " 'deltacloud__9.edgelist',\n",
              " 'deltaspike__0.edgelist',\n",
              " 'deltaspike__1.edgelist',\n",
              " 'deltaspike__10.edgelist',\n",
              " 'deltaspike__11.edgelist',\n",
              " 'deltaspike__12.edgelist',\n",
              " 'deltaspike__13.edgelist',\n",
              " 'deltaspike__14.edgelist',\n",
              " 'deltaspike__15.edgelist',\n",
              " 'deltaspike__16.edgelist',\n",
              " 'deltaspike__2.edgelist',\n",
              " 'deltaspike__3.edgelist',\n",
              " 'deltaspike__4.edgelist',\n",
              " 'deltaspike__5.edgelist',\n",
              " 'deltaspike__6.edgelist',\n",
              " 'deltaspike__7.edgelist',\n",
              " 'deltaspike__8.edgelist',\n",
              " 'deltaspike__9.edgelist',\n",
              " 'derby__10.edgelist',\n",
              " 'derby__5.edgelist',\n",
              " 'derby__6.edgelist',\n",
              " 'derby__7.edgelist',\n",
              " 'derby__8.edgelist',\n",
              " 'derby__9.edgelist',\n",
              " 'devicemap__0.edgelist',\n",
              " 'devicemap__1.edgelist',\n",
              " 'devicemap__11.edgelist',\n",
              " 'devicemap__12.edgelist',\n",
              " 'devicemap__13.edgelist',\n",
              " 'devicemap__15.edgelist',\n",
              " 'devicemap__16.edgelist',\n",
              " 'devicemap__17.edgelist',\n",
              " 'devicemap__18.edgelist',\n",
              " 'devicemap__19.edgelist',\n",
              " 'devicemap__2.edgelist',\n",
              " 'devicemap__20.edgelist',\n",
              " 'devicemap__21.edgelist',\n",
              " 'devicemap__22.edgelist',\n",
              " 'devicemap__23.edgelist',\n",
              " 'devicemap__24.edgelist',\n",
              " 'devicemap__26.edgelist',\n",
              " 'devicemap__29.edgelist',\n",
              " 'devicemap__30.edgelist',\n",
              " 'devicemap__31.edgelist',\n",
              " 'devicemap__32.edgelist',\n",
              " 'devicemap__33.edgelist',\n",
              " 'devicemap__4.edgelist',\n",
              " 'devicemap__9.edgelist',\n",
              " 'directmemory__0.edgelist',\n",
              " 'directmemory__1.edgelist',\n",
              " 'directmemory__2.edgelist',\n",
              " 'directmemory__3.edgelist',\n",
              " 'directmemory__4.edgelist',\n",
              " 'directmemory__5.edgelist',\n",
              " 'directmemory__6.edgelist',\n",
              " 'directmemory__7.edgelist',\n",
              " 'directmemory__8.edgelist',\n",
              " 'directmemory__9.edgelist',\n",
              " 'directory__15.edgelist',\n",
              " 'dolphinscheduler__1.edgelist',\n",
              " 'dolphinscheduler__11.edgelist',\n",
              " 'dolphinscheduler__12.edgelist',\n",
              " 'dolphinscheduler__2.edgelist',\n",
              " 'dolphinscheduler__3.edgelist',\n",
              " 'dolphinscheduler__4.edgelist',\n",
              " 'dolphinscheduler__5.edgelist',\n",
              " 'drill__1.edgelist',\n",
              " 'drill__10.edgelist',\n",
              " 'drill__11.edgelist',\n",
              " 'drill__12.edgelist',\n",
              " 'drill__13.edgelist',\n",
              " 'drill__14.edgelist',\n",
              " 'drill__15.edgelist',\n",
              " 'drill__16.edgelist',\n",
              " 'drill__17.edgelist',\n",
              " 'drill__18.edgelist',\n",
              " 'drill__19.edgelist',\n",
              " 'drill__2.edgelist',\n",
              " 'drill__20.edgelist',\n",
              " 'drill__21.edgelist',\n",
              " 'drill__22.edgelist',\n",
              " 'drill__23.edgelist',\n",
              " 'drill__24.edgelist',\n",
              " 'drill__25.edgelist',\n",
              " 'drill__26.edgelist',\n",
              " 'drill__4.edgelist',\n",
              " 'drill__5.edgelist',\n",
              " 'drill__6.edgelist',\n",
              " 'drill__7.edgelist',\n",
              " 'drill__8.edgelist',\n",
              " 'drill__9.edgelist',\n",
              " 'droids__0.edgelist',\n",
              " 'droids__1.edgelist',\n",
              " 'droids__10.edgelist',\n",
              " 'droids__11.edgelist',\n",
              " 'droids__12.edgelist',\n",
              " 'droids__13.edgelist',\n",
              " 'droids__14.edgelist',\n",
              " 'droids__18.edgelist',\n",
              " 'droids__19.edgelist',\n",
              " 'droids__2.edgelist',\n",
              " 'droids__22.edgelist',\n",
              " 'droids__23.edgelist',\n",
              " 'droids__25.edgelist',\n",
              " 'droids__26.edgelist',\n",
              " 'droids__28.edgelist',\n",
              " 'droids__29.edgelist',\n",
              " 'droids__3.edgelist',\n",
              " 'droids__30.edgelist',\n",
              " 'droids__31.edgelist',\n",
              " 'droids__32.edgelist',\n",
              " 'droids__33.edgelist',\n",
              " 'droids__34.edgelist',\n",
              " 'droids__35.edgelist',\n",
              " 'droids__36.edgelist',\n",
              " 'droids__37.edgelist',\n",
              " 'droids__38.edgelist',\n",
              " 'droids__39.edgelist',\n",
              " 'droids__4.edgelist',\n",
              " 'droids__41.edgelist',\n",
              " 'droids__42.edgelist',\n",
              " 'droids__43.edgelist',\n",
              " 'droids__44.edgelist',\n",
              " 'droids__47.edgelist',\n",
              " 'droids__48.edgelist',\n",
              " 'droids__49.edgelist',\n",
              " 'droids__5.edgelist',\n",
              " 'droids__50.edgelist',\n",
              " 'droids__51.edgelist',\n",
              " 'droids__52.edgelist',\n",
              " 'droids__53.edgelist',\n",
              " 'droids__54.edgelist',\n",
              " 'droids__6.edgelist',\n",
              " 'droids__7.edgelist',\n",
              " 'droids__8.edgelist',\n",
              " 'druid__10.edgelist',\n",
              " 'druid__11.edgelist',\n",
              " 'druid__12.edgelist',\n",
              " 'druid__13.edgelist',\n",
              " 'druid__14.edgelist',\n",
              " 'druid__15.edgelist',\n",
              " 'druid__16.edgelist',\n",
              " 'druid__17.edgelist',\n",
              " 'druid__5.edgelist',\n",
              " 'druid__6.edgelist',\n",
              " 'druid__7.edgelist',\n",
              " ...]"
            ]
          },
          "metadata": {},
          "execution_count": 13
        }
      ]
    },
    {
      "cell_type": "code",
      "source": [
        ""
      ],
      "metadata": {
        "id": "RYCYK9-XBm2B"
      },
      "execution_count": null,
      "outputs": []
    }
  ]
}