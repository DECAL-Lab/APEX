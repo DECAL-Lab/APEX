{
  "nbformat": 4,
  "nbformat_minor": 0,
  "metadata": {
    "colab": {
      "name": "emails_data_script.ipynb",
      "provenance": [],
      "collapsed_sections": [],
      "mount_file_id": "1aHQC-amQDWYixn2AkqEWLeZtdlnfprEz",
      "authorship_tag": "ABX9TyOva59enQiqtLm/oRoUAcnv",
      "include_colab_link": true
    },
    "kernelspec": {
      "name": "python3",
      "display_name": "Python 3"
    },
    "language_info": {
      "name": "python"
    }
  },
  "cells": [
    {
      "cell_type": "markdown",
      "metadata": {
        "id": "view-in-github",
        "colab_type": "text"
      },
      "source": [
        "<a href=\"https://colab.research.google.com/github/anirudhsuresh/APEX/blob/main/emails_data_script.ipynb\" target=\"_parent\"><img src=\"https://colab.research.google.com/assets/colab-badge.svg\" alt=\"Open In Colab\"/></a>"
      ]
    },
    {
      "cell_type": "code",
      "metadata": {
        "id": "ilaQLX4Lj3YJ"
      },
      "source": [
        "import pandas as pd\n",
        "import os\n",
        "import json\n",
        "import re\n",
        "import collections"
      ],
      "execution_count": null,
      "outputs": []
    },
    {
      "cell_type": "code",
      "metadata": {
        "id": "KFih06hMj47K"
      },
      "source": [
        "emails_path='/content/drive/MyDrive/$ Nov Apache Data /network_data/emails'\n",
        "to_id='/content/drive/MyDrive/$ Nov Apache Data /name_to_id.json'\n",
        "result_path='/content/drive/MyDrive/$ Nov Apache Data /2022_new_data/'"
      ],
      "execution_count": null,
      "outputs": []
    },
    {
      "cell_type": "code",
      "source": [
        "def extract_number(input_string):\n",
        "  res=re.findall(r'\\d+',input_string)\n",
        "  return res[0]\n",
        "def extract_name(ans1):\n",
        "\n",
        "  regex = re.compile('[^a-zA-Z]')\n",
        "  #First parameter is the replacement, second parameter is your input string\n",
        "  a=regex.sub('',ans1.split('_')[0] )\n",
        "  return a"
      ],
      "metadata": {
        "id": "vnTZ_0fSnRGb"
      },
      "execution_count": null,
      "outputs": []
    },
    {
      "cell_type": "code",
      "source": [
        "def make_the_nested_list(normal_data_frame):\n",
        "  df_list=df['content'].tolist()\n",
        "  result=[]\n",
        "  for i in df_list:\n",
        "    result.append(i.split('##',3))\n",
        "  json_string = json.dumps(result)\n",
        "  return json_string"
      ],
      "metadata": {
        "id": "WjurjK3io5ta"
      },
      "execution_count": null,
      "outputs": []
    },
    {
      "cell_type": "code",
      "source": [
        "all_files=os.listdir(emails_path)"
      ],
      "metadata": {
        "id": "pie1z5b_lmhj"
      },
      "execution_count": null,
      "outputs": []
    },
    {
      "cell_type": "code",
      "source": [
        "n=len(all_files)"
      ],
      "metadata": {
        "id": "M8Y2MXUelmeS"
      },
      "execution_count": null,
      "outputs": []
    },
    {
      "cell_type": "code",
      "source": [
        "len(os.listdir(result_path))"
      ],
      "metadata": {
        "colab": {
          "base_uri": "https://localhost:8080/"
        },
        "id": "tsW1qfg1luZK",
        "outputId": "c3e9576b-4fd4-4e03-be55-01e782b1c2de"
      },
      "execution_count": null,
      "outputs": [
        {
          "output_type": "execute_result",
          "data": {
            "text/plain": [
              "9"
            ]
          },
          "metadata": {},
          "execution_count": 8
        }
      ]
    },
    {
      "cell_type": "code",
      "source": [
        "all_files=os.listdir(emails_path)"
      ],
      "metadata": {
        "id": "-lRXOE11UsOq"
      },
      "execution_count": null,
      "outputs": []
    },
    {
      "cell_type": "code",
      "source": [
        "n=len(all_files)\n",
        "# number of projects to change the file name for \n",
        "projects_to_change=[]\n",
        "for i in range(n):\n",
        "  fo=all_files[i]\n",
        "  # read the file\n",
        "  # get the mentor list for this project\n",
        "  c=fo.split('__')[0]\n",
        "  p=extract_name(c)\n",
        "  digit=fo.split('__')[1].split('.')[0]\n",
        "  \n",
        "  if digit is '0':\n",
        "    if p not in projects_to_change:\n",
        "      projects_to_change.append(p)\n",
        "projects_to_change.sort()"
      ],
      "metadata": {
        "id": "JNSsBoL_luV6"
      },
      "execution_count": null,
      "outputs": []
    },
    {
      "cell_type": "code",
      "source": [
        "n=len(all_files)\n",
        "# number of projects to change the file name for \n",
        "num_projects=[]\n",
        "for i in range(n):\n",
        "  fo=all_files[i]\n",
        "  # read the file\n",
        "  # get the mentor list for this project\n",
        "  c=fo.split('__')[0]\n",
        "  p=extract_name(c)\n",
        "  num_projects.append(p)\n",
        "num_projects=set(num_projects)"
      ],
      "metadata": {
        "id": "3rRWmHIqlmbH"
      },
      "execution_count": null,
      "outputs": []
    },
    {
      "cell_type": "code",
      "source": [
        "with open(to_id, 'r') as f:\n",
        "       name_to_id= json.load(f)\n",
        "# \n",
        "test_values=list(name_to_id.values())\n",
        "# \n",
        "name=list(name_to_id)\n",
        "# \n",
        "test_keys=[i.split(' ')[0].lower().strip() for i in name_to_id ]\n",
        "# \n",
        "name_to_id_mapping = {test_keys[i]: test_values[i] for i in range(len(test_keys))}\n"
      ],
      "metadata": {
        "id": "MrFR17wJoTmm"
      },
      "execution_count": null,
      "outputs": []
    },
    {
      "cell_type": "code",
      "source": [
        "key=list(name_to_id_mapping.values())\n",
        "k=[int(i) for i in key]\n",
        "k.sort()\n",
        "curre=k[-1]"
      ],
      "metadata": {
        "id": "ieECgC74t13j"
      },
      "execution_count": null,
      "outputs": []
    },
    {
      "cell_type": "code",
      "source": [
        "name_to_id_mapping\n",
        "i=312\n",
        "for file in all_files:\n",
        "  prj_name=file.split('__',1)[0]\n",
        "  if prj_name not in name_to_id_mapping:\n",
        "    name_to_id_mapping[prj_name]=i\n",
        "    i+=1\n",
        "\n",
        "  else:\n",
        "    continue \n"
      ],
      "metadata": {
        "id": "-A5lgN3nvbX1"
      },
      "execution_count": null,
      "outputs": []
    },
    {
      "cell_type": "code",
      "source": [
        "b=name_to_id_mapping"
      ],
      "metadata": {
        "id": "Kn0onKXPZVyT"
      },
      "execution_count": null,
      "outputs": []
    },
    {
      "cell_type": "code",
      "source": [
        "name_to_id_mapping=dict([a, int(x)] for a, x in b.items())"
      ],
      "metadata": {
        "id": "U-DI_kkFYuFx"
      },
      "execution_count": null,
      "outputs": []
    },
    {
      "cell_type": "code",
      "source": [
        "x=json.dumps(name_to_id_mapping)"
      ],
      "metadata": {
        "id": "EtLiTq2zajM7"
      },
      "execution_count": null,
      "outputs": []
    },
    {
      "cell_type": "code",
      "source": [
        "y = x.encode('utf-8')"
      ],
      "metadata": {
        "id": "hDkxOtiOcvWK"
      },
      "execution_count": null,
      "outputs": []
    },
    {
      "cell_type": "code",
      "source": [
        "with open(result_path+'.json', 'w') as f:\n",
        "  f.write(str(y))"
      ],
      "metadata": {
        "id": "H0xsmtkmtvqr"
      },
      "execution_count": null,
      "outputs": []
    },
    {
      "cell_type": "code",
      "source": [
        "all_files.sort()\n",
        "d={}\n",
        "for f in range(n):\n",
        "  filez=all_files[f]\n",
        "  if filez.split('__')[1].split('.')[0]=='0':\n",
        "    d[filez.split('__')[0]]=1\n",
        "projects_to_change=d"
      ],
      "metadata": {
        "id": "wyPMyLOjx69X"
      },
      "execution_count": null,
      "outputs": []
    },
    {
      "cell_type": "code",
      "source": [
        "# def check_current_name(cur_prj_name,cur_prj_month):\n",
        "\n",
        "\n",
        "\n",
        "#     if cur_prj_name in projects_to_change:\n",
        "#       cur_prj_month=int(cur_prj_month)\n",
        "#       cur_prj_month+=1\n",
        "#       new_name='p'+str(name_to_id_mapping[cur_prj_name])+'m'+str(cur_prj_month)+'_'+'emails'+'.json'\n",
        "#     else:\n",
        "#       new_name='p'+str(name_to_id_mapping[cur_prj_name])+'m'+str(cur_prj_month)+'_'+'emails'+'.json'\n",
        "\n",
        "#     return new_name"
      ],
      "metadata": {
        "id": "Qk9prZxbs3GS"
      },
      "execution_count": null,
      "outputs": []
    },
    {
      "cell_type": "code",
      "source": [
        "def check_current_name(cur_prj_name,cur_prj_month):\n",
        "\n",
        "\n",
        "\n",
        "    if cur_prj_name in projects_to_change:\n",
        "      cur_prj_month=int(cur_prj_month)\n",
        "      cur_prj_month+=1\n",
        "    else:\n",
        "      return cur_prj_month\n",
        "    #   new_name='p'+str(name_to_id_mapping[cur_prj_name])+'m'+str(cur_prj_month)+'_'+'commits'+'.json'\n",
        "    # else:\n",
        "    #   new_name='p'+str(name_to_id_mapping[cur_prj_name])+'m'+str(cur_prj_month)+'_'+'commits'+'.json'\n",
        "\n",
        "    return cur_prj_month"
      ],
      "metadata": {
        "id": "jW8RMtMwx9yo"
      },
      "execution_count": null,
      "outputs": []
    },
    {
      "cell_type": "code",
      "source": [
        "n"
      ],
      "metadata": {
        "colab": {
          "base_uri": "https://localhost:8080/"
        },
        "id": "UwKrKBvtz27R",
        "outputId": "87d21c9d-4ee2-465a-de21-da1c1725e09a"
      },
      "execution_count": null,
      "outputs": [
        {
          "output_type": "execute_result",
          "data": {
            "text/plain": [
              "6036"
            ]
          },
          "metadata": {},
          "execution_count": 14
        }
      ]
    },
    {
      "cell_type": "code",
      "source": [
        "len(os.listdir(result_path))"
      ],
      "metadata": {
        "colab": {
          "base_uri": "https://localhost:8080/"
        },
        "id": "l7kE7HVHZm3t",
        "outputId": "6b0be1da-09fc-442d-9816-9a63a12a0f16"
      },
      "execution_count": null,
      "outputs": [
        {
          "output_type": "execute_result",
          "data": {
            "text/plain": [
              "6036"
            ]
          },
          "metadata": {},
          "execution_count": 19
        }
      ]
    },
    {
      "cell_type": "code",
      "source": [
        "res=[]\n",
        "for f in range(n):\n",
        "  # print(all_files[f])\n",
        "  \n",
        "  filez=all_files[f]\n",
        "\n",
        "\n",
        "  project_name=filez.split('__',1)[0]\n",
        "  month=filez.split('__',1)[1].split('.')[0]\n",
        "  df=pd.read_csv(emails_path+'/'+filez,names=['content'])\n",
        "  answer=make_the_nested_list(df)\n",
        "   \n",
        "  out=check_current_name(project_name,month)\n",
        "  res.append([project_name,month,out,f])\n",
        "  # write the file now\n",
        "  with open(result_path+filez.split('__',1)[0]+'_'+str(out)+'.json', 'w') as f:\n",
        "    f.write(str(answer))"
      ],
      "metadata": {
        "id": "ItPZofvPnyLb"
      },
      "execution_count": null,
      "outputs": []
    },
    {
      "cell_type": "markdown",
      "source": [
        "--------------------------------\n",
        "STOP"
      ],
      "metadata": {
        "id": "WhkdLQR1l81b"
      }
    },
    {
      "cell_type": "markdown",
      "source": [
        "checking how many are new compared to the old ones "
      ],
      "metadata": {
        "id": "MjG7_Fqel_On"
      }
    },
    {
      "cell_type": "code",
      "source": [
        "res_names=[]\n",
        "for f in range(n):\n",
        "  # print(all_files[f])\n",
        "  \n",
        "  filez=all_files[f]\n",
        "\n",
        "\n",
        "  project_name=filez.split('__',1)[0]\n",
        "  res_names.append(project_name)"
      ],
      "metadata": {
        "id": "HUq3TfC_pt7W"
      },
      "execution_count": null,
      "outputs": []
    },
    {
      "cell_type": "code",
      "source": [
        "res_names.sort()\n",
        "res_answer=list(set(res_names))"
      ],
      "metadata": {
        "id": "eegazGrOmZsj"
      },
      "execution_count": null,
      "outputs": []
    },
    {
      "cell_type": "code",
      "source": [
        "len(res_answer)"
      ],
      "metadata": {
        "id": "U9RtAonMmrfq",
        "outputId": "004d243d-338f-4cf3-eb40-e3587f84b246",
        "colab": {
          "base_uri": "https://localhost:8080/"
        }
      },
      "execution_count": null,
      "outputs": [
        {
          "output_type": "execute_result",
          "data": {
            "text/plain": [
              "272"
            ]
          },
          "metadata": {},
          "execution_count": 15
        }
      ]
    },
    {
      "cell_type": "code",
      "source": [
        ""
      ],
      "metadata": {
        "id": "BEFYeRSTmrcl"
      },
      "execution_count": null,
      "outputs": []
    },
    {
      "cell_type": "code",
      "source": [
        ""
      ],
      "metadata": {
        "id": "9W8RzhvxmrZw"
      },
      "execution_count": null,
      "outputs": []
    },
    {
      "cell_type": "code",
      "source": [
        "for f in range(n):\n",
        "\n",
        "  \n",
        "  with open(result_path+filez+'.json', 'w') as f:\n",
        "    f.write(str(answer))"
      ],
      "metadata": {
        "id": "ExOELWKDmhat"
      },
      "execution_count": null,
      "outputs": []
    },
    {
      "cell_type": "code",
      "source": [
        ""
      ],
      "metadata": {
        "id": "_RtLObgplF0-"
      },
      "execution_count": null,
      "outputs": []
    },
    {
      "cell_type": "code",
      "source": [
        ""
      ],
      "metadata": {
        "id": "-9CUEoTGlFvA"
      },
      "execution_count": null,
      "outputs": []
    },
    {
      "cell_type": "code",
      "source": [
        ""
      ],
      "metadata": {
        "colab": {
          "base_uri": "https://localhost:8080/",
          "height": 36
        },
        "id": "1LacDatbdfxD",
        "outputId": "df3b4d71-7708-4469-eb42-e1b12f418a01"
      },
      "execution_count": null,
      "outputs": [
        {
          "output_type": "execute_result",
          "data": {
            "application/vnd.google.colaboratory.intrinsic+json": {
              "type": "string"
            },
            "text/plain": [
              "'socialsite__9.edgelist'"
            ]
          },
          "metadata": {},
          "execution_count": 24
        }
      ]
    },
    {
      "cell_type": "code",
      "source": [
        "len(os.listdir(result_path))"
      ],
      "metadata": {
        "id": "bN4dpdaQsmh3",
        "colab": {
          "base_uri": "https://localhost:8080/"
        },
        "outputId": "078e12de-03c7-42b3-acb7-c3a305521fce"
      },
      "execution_count": null,
      "outputs": [
        {
          "output_type": "execute_result",
          "data": {
            "text/plain": [
              "6036"
            ]
          },
          "metadata": {},
          "execution_count": 33
        }
      ]
    },
    {
      "cell_type": "code",
      "source": [
        "l=os.listdir(result_path)\n",
        "'p54m2_emails.json' in l"
      ],
      "metadata": {
        "colab": {
          "base_uri": "https://localhost:8080/"
        },
        "id": "f6ICLfSr3mQ9",
        "outputId": "dd681c2c-3974-4ffb-d0d2-281d9892d4af"
      },
      "execution_count": null,
      "outputs": [
        {
          "output_type": "execute_result",
          "data": {
            "text/plain": [
              "True"
            ]
          },
          "metadata": {},
          "execution_count": 138
        }
      ]
    },
    {
      "cell_type": "code",
      "source": [
        "print(all_files[f])\n",
        "filez=all_files['airflow__3.edgelist']\n",
        "\n",
        "project_name=filez.split('__',1)[0]\n",
        "month=filez.split('__',1)[1].split('.')[0]\n",
        "df=pd.read_csv(emails_path+'/'+filez,names=['content'])\n",
        "answer=make_the_nested_list(df)\n",
        "# write the file now \n",
        "# print(answer)\n",
        "with open(result_path+'/'+project_name+month+'_email'+'.json', 'w') as f:\n",
        "  f.write(str(answer))"
      ],
      "metadata": {
        "colab": {
          "base_uri": "https://localhost:8080/",
          "height": 252
        },
        "id": "NeYoVxeLpRYz",
        "outputId": "b6bbd561-53a1-4996-d4ac-f5fab3eb75d3"
      },
      "execution_count": null,
      "outputs": [
        {
          "output_type": "stream",
          "name": "stdout",
          "text": [
            "abdera__9.edgelist\n"
          ]
        },
        {
          "output_type": "error",
          "ename": "TypeError",
          "evalue": "ignored",
          "traceback": [
            "\u001b[0;31m---------------------------------------------------------------------------\u001b[0m",
            "\u001b[0;31mTypeError\u001b[0m                                 Traceback (most recent call last)",
            "\u001b[0;32m<ipython-input-40-c9230af19fb6>\u001b[0m in \u001b[0;36m<module>\u001b[0;34m()\u001b[0m\n\u001b[1;32m      1\u001b[0m \u001b[0mprint\u001b[0m\u001b[0;34m(\u001b[0m\u001b[0mall_files\u001b[0m\u001b[0;34m[\u001b[0m\u001b[0mf\u001b[0m\u001b[0;34m]\u001b[0m\u001b[0;34m)\u001b[0m\u001b[0;34m\u001b[0m\u001b[0;34m\u001b[0m\u001b[0m\n\u001b[0;32m----> 2\u001b[0;31m \u001b[0mfilez\u001b[0m\u001b[0;34m=\u001b[0m\u001b[0mall_files\u001b[0m\u001b[0;34m[\u001b[0m\u001b[0;34m'airflow__3.edgelist'\u001b[0m\u001b[0;34m]\u001b[0m\u001b[0;34m\u001b[0m\u001b[0;34m\u001b[0m\u001b[0m\n\u001b[0m\u001b[1;32m      3\u001b[0m \u001b[0;34m\u001b[0m\u001b[0m\n\u001b[1;32m      4\u001b[0m \u001b[0mproject_name\u001b[0m\u001b[0;34m=\u001b[0m\u001b[0mfilez\u001b[0m\u001b[0;34m.\u001b[0m\u001b[0msplit\u001b[0m\u001b[0;34m(\u001b[0m\u001b[0;34m'__'\u001b[0m\u001b[0;34m,\u001b[0m\u001b[0;36m1\u001b[0m\u001b[0;34m)\u001b[0m\u001b[0;34m[\u001b[0m\u001b[0;36m0\u001b[0m\u001b[0;34m]\u001b[0m\u001b[0;34m\u001b[0m\u001b[0;34m\u001b[0m\u001b[0m\n\u001b[1;32m      5\u001b[0m \u001b[0mmonth\u001b[0m\u001b[0;34m=\u001b[0m\u001b[0mfilez\u001b[0m\u001b[0;34m.\u001b[0m\u001b[0msplit\u001b[0m\u001b[0;34m(\u001b[0m\u001b[0;34m'__'\u001b[0m\u001b[0;34m,\u001b[0m\u001b[0;36m1\u001b[0m\u001b[0;34m)\u001b[0m\u001b[0;34m[\u001b[0m\u001b[0;36m1\u001b[0m\u001b[0;34m]\u001b[0m\u001b[0;34m.\u001b[0m\u001b[0msplit\u001b[0m\u001b[0;34m(\u001b[0m\u001b[0;34m'.'\u001b[0m\u001b[0;34m)\u001b[0m\u001b[0;34m[\u001b[0m\u001b[0;36m0\u001b[0m\u001b[0;34m]\u001b[0m\u001b[0;34m\u001b[0m\u001b[0;34m\u001b[0m\u001b[0m\n",
            "\u001b[0;31mTypeError\u001b[0m: list indices must be integers or slices, not str"
          ]
        }
      ]
    },
    {
      "cell_type": "code",
      "source": [
        "d={\"Abdera [graduated]\": \"abdera\", \"Accumulo [graduated]\": \"accumulo\", \"Ace [graduated]\": \"ace\", \"ActiveMQ [graduated]\": \"activemq\", \"Trinidad [graduated]\": \"adffaces\", \"Agila [retired]\": \"agila\", \"Airavata [graduated]\": \"airavata\", \"Airflow [graduated]\": \"airflow\", \"Allura [graduated]\": \"allura\", \"Alois [retired]\": \"alois\", \"Amaterasu [retired]\": \"amaterasu\", \"Ambari [graduated]\": \"ambari\", \"EasyAnt [graduated]\": \"ant\", \"Any23 [graduated]\": \"any23\", \"Apex [graduated]\": \"apex\", \"APISIX [graduated]\": \"apisix\", \"AriaTosca [retired]\": \"ariatosca\", \"Aries [graduated]\": \"aries\", \"AsterixDB [graduated]\": \"asterixdb\", \"Atlas [graduated]\": \"atlas\", \"Aurora [graduated]\": \"aurora\", \"AWF [retired]\": \"awf\", \"BatchEE [graduated]\": \"batchee\", \"Beam [graduated]\": \"beam\", \"Beehive [graduated]\": \"beehive\", \"Bigtop [graduated]\": \"bigtop\", \"Bloodhound [graduated]\": \"bloodhound\", \"Bluesky [retired]\": \"bluesky\", \"Blur [retired]\": \"blur\", \"DistributedLog [graduated]\": \"bookkeeper\", \"Brooklyn [graduated]\": \"brooklyn\", \"Buildr [graduated]\": \"buildr\", \"Bean Validation [graduated]\": \"bval\", \"Calcite [graduated]\": \"calcite\", \"CarbonData [graduated]\": \"carbondata\", \"Cassandra [graduated]\": \"cassandra\", \"Cayenne [graduated]\": \"cayenne\", \"Celix [graduated]\": \"celix\", \"Chemistry [graduated]\": \"chemistry\", \"Chukwa [graduated]\": \"chukwa\", \"Clerezza [graduated]\": \"clerezza\", \"Click [graduated]\": \"click\", \"Open Climate Workbench [graduated]\": \"climate\", \"CloudStack [graduated]\": \"cloudstack\", \"Climate Model Diagnostic Analyzer [retired]\": \"cmda\", \"OGNL [graduated]\": \"commons\", \"CommonsRDF [graduated]\": \"commonsrdf\", \"Composer [retired]\": \"composer\", \"Concerted [retired]\": \"concerted\", \"Cordova [graduated]\": \"cordova\", \"Corinthia [retired]\": \"corinthia\", \"Cotton [retired]\": \"cotton\", \"CouchDB [graduated]\": \"couchdb\", \"Crunch [graduated]\": \"crunch\", \"cTAKES [graduated]\": \"ctakes\", \"Curator [graduated]\": \"curator\", \"CXF [graduated]\": \"cxf\", \"Daffodil [graduated]\": \"daffodil\", \"DataFu [graduated]\": \"datafu\", \"DataSketches [graduated]\": \"datasketches\", \"Deltacloud [graduated]\": \"deltacloud\", \"DeltaSpike [graduated]\": \"deltaspike\", \"Depot [retired]\": \"depot\", \"Derby [graduated]\": \"derby\", \"DeviceMap [graduated]\": \"devicemap\", \"DirectMemory [graduated]\": \"directmemory\", \"Directory [graduated]\": \"directory\", \"DolphinScheduler [graduated]\": \"dolphinscheduler\", \"Drill [graduated]\": \"drill\", \"Droids [retired]\": \"droids\", \"Druid [graduated]\": \"druid\", \"Dubbo [graduated]\": \"dubbo\", \"Eagle [graduated]\": \"eagle\", \"ECharts [graduated]\": \"echarts\", \"Edgent [retired]\": \"edgent\", \"Empire-db [graduated]\": \"empire\", \"ESME [graduated]\": \"esme\", \"Etch [graduated]\": \"etch\", \"Falcon [graduated]\": \"falcon\", \"Felix [graduated]\": \"felix\", \"Fineract [graduated]\": \"fineract\", \"Flex [graduated]\": \"flex\", \"Flink [graduated]\": \"flink\", \"Flume [graduated]\": \"flume\", \"Fluo [graduated]\": \"fluo\", \"FreeMarker [graduated]\": \"freemarker\", \"FtpServer [graduated]\": \"ftpserver\", \"Gearpump [retired]\": \"gearpump\", \"Geode [graduated]\": \"geode\", \"Geronimo [graduated]\": \"geronimo\", \"Giraph [graduated]\": \"giraph\", \"Gobblin [graduated]\": \"gobblin\", \"Gora [graduated]\": \"gora\", \"Gossip [retired]\": \"gossip\", \"Graffito [retired]\": \"graffito\", \"Griffin [graduated]\": \"griffin\", \"Groovy [graduated]\": \"groovy\", \"Guacamole [graduated]\": \"guacamole\", \"Hama [graduated]\": \"hama\", \"Harmony [graduated]\": \"harmony\", \"HAWQ [graduated]\": \"hawq\", \"HCatalog [graduated]\": \"hcatalog\", \"Hadoop Development Tools (HDT) [retired]\": \"hdt\", \"Helix [graduated]\": \"helix\", \"Heraldry [retired]\": \"heraldry\", \"HISE [retired]\": \"hise\", \"HORN [retired]\": \"horn\", \"HTrace [retired]\": \"htrace\", \"Hudi [graduated]\": \"hudi\", \"iBATIS [graduated]\": \"ibatis\", \"Iceberg [graduated]\": \"iceberg\", \"Ignite [graduated]\": \"ignite\", \"Impala [graduated]\": \"impala\", \"Imperius [retired]\": \"imperius\", \"iota [retired]\": \"iota\", \"IoTDB [graduated]\": \"iotdb\", \"Isis [graduated]\": \"isis\", \"Ivy [graduated]\": \"ivy\", \"Jackrabbit [graduated]\": \"jackrabbit\", \"jclouds [graduated]\": \"jclouds\", \"JDO [graduated]\": \"jdo\", \"Jena [graduated]\": \"jena\", \"Johnzon [graduated]\": \"johnzon\", \"Joshua [graduated]\": \"joshua\", \"JSPWiki [graduated]\": \"jspwiki\", \"jUDDI [graduated]\": \"juddi\", \"JuiCE [retired]\": \"juice\", \"Juneau [graduated]\": \"juneau\", \"Kabuki [retired]\": \"kabuki\", \"Kafka [graduated]\": \"kafka\", \"Kalumet [retired]\": \"kalumet\", \"Kato [retired]\": \"kato\", \"Kitty [retired]\": \"kitty\", \"Knox [graduated]\": \"knox\", \"Kudu [graduated]\": \"kudu\", \"Kylin [graduated]\": \"kylin\", \"Lens [graduated]\": \"lens\", \"Lenya [graduated]\": \"lenya\", \"Libcloud [graduated]\": \"libcloud\", \"Lokahi [retired]\": \"lokahi\", \"Lucene.NET [graduated]\": \"lucenenet\", \"Lucy [graduated]\": \"lucy\", \"MADlib [graduated]\": \"madlib\", \"ManifoldCF [graduated]\": \"manifoldcf\", \"Marmotta [graduated]\": \"marmotta\", \"Mesos [graduated]\": \"mesos\", \"MetaModel [graduated]\": \"metamodel\", \"Metron [graduated]\": \"metron\", \"Mnemonic [graduated]\": \"mnemonic\", \"mod_ftp [graduated]\": \"mod_ftp\", \"MRQL [retired]\": \"mrql\", \"MRUnit [graduated]\": \"mrunit\", \"Muse [graduated]\": \"muse\", \"Tobago [graduated]\": \"myfaces\", \"Mynewt [graduated]\": \"mynewt\", \"Myriad [retired]\": \"myriad\", \"NetBeans [graduated]\": \"netbeans\", \"NiFi [graduated]\": \"nifi\", \"NMaven [retired]\": \"nmaven\", \"NPanday [retired]\": \"npanday\", \"Nutch [graduated]\": \"nutch\", \"Nuvem [graduated]\": \"nuvem\", \"Ode [graduated]\": \"ode\", \"ODF Toolkit [retired]\": \"odf\", \"OFBiz [graduated]\": \"ofbiz\", \"Olingo [graduated]\": \"olingo\", \"Olio [retired]\": \"olio\", \"Amber [graduated]\": \"oltu\", \"Omid [graduated]\": \"omid\", \"Onami [graduated]\": \"onami\", \"OODT [graduated]\": \"oodt\", \"Oozie [graduated]\": \"oozie\", \"OpenAz [retired]\": \"openaz\", \"OpenJPA [graduated]\": \"openjpa\", \"Openmeetings [graduated]\": \"openmeetings\", \"OpenNLP [graduated]\": \"opennlp\", \"OpenOffice.org [graduated]\": \"openoffice\", \"OpenWebBeans [graduated]\": \"openwebbeans\", \"OpenWhisk [graduated]\": \"openwhisk\", \"Parquet [graduated]\": \"parquet\", \"PDFBox [graduated]\": \"pdfbox\", \"Phoenix [graduated]\": \"phoenix\", \"PhotArk [retired]\": \"photark\", \"Pig [graduated]\": \"pig\", \"Pinot [graduated]\": \"pinot\", \"Pirk [retired]\": \"pirk\", \"Pivot [graduated]\": \"pivot\", \"PLC4X [graduated]\": \"plc4x\", \"PredictionIO [graduated]\": \"predictionio\", \"Provisionr [retired]\": \"provisionr\", \"Hermes [graduated]\": \"pubscribe\", \"Pulsar [graduated]\": \"pulsar\", \"Qpid [graduated]\": \"qpid\", \"Quickstep [retired]\": \"quickstep\", \"Ranger [graduated]\": \"ranger\", \"Ratis [graduated]\": \"ratis\", \"Rave [graduated]\": \"rave\", \"RCF [retired]\": \"rcf\", \"REEF [graduated]\": \"reef\", \"Ripple [retired]\": \"ripple\", \"River [graduated]\": \"river\", \"RocketMQ [graduated]\": \"rocketmq\", \"Roller [graduated]\": \"roller\", \"Rya [graduated]\": \"rya\", \"S2Graph [retired]\": \"s2graph\", \"S4 [retired]\": \"s4\", \"SAMOA [retired]\": \"samoa\", \"Samza [graduated]\": \"samza\", \"Sanselan [graduated]\": \"sanselan\", \"Sentry [graduated]\": \"sentry\", \"ServiceComb [graduated]\": \"servicecomb\", \"ServiceMix [graduated]\": \"servicemix\", \"ShardingSphere [graduated]\": \"shardingsphere\", \"Shindig [graduated]\": \"shindig\", \"Shiro [graduated]\": \"shiro\", \"SINGA [graduated]\": \"singa\", \"Sirona [retired]\": \"sirona\", \"SIS [graduated]\": \"sis\", \"SkyWalking [graduated]\": \"skywalking\", \"Slider [retired]\": \"slider\", \"Sling [graduated]\": \"sling\", \"SocialSite [retired]\": \"socialsite\", \"Solr [graduated]\": \"solr\", \"SpamAssassin [graduated]\": \"spamassassin\", \"Spark [graduated]\": \"spark\", \"Sqoop [graduated]\": \"sqoop\", \"Stanbol [graduated]\": \"stanbol\", \"stdcxx [graduated]\": \"stdcxx\", \"Stonehenge [retired]\": \"stonehenge\", \"Storm [graduated]\": \"storm\", \"Stratos [graduated]\": \"stratos\", \"Streams [graduated]\": \"streams\", \"WebWork 2 [graduated]\": \"struts\", \"Subversion [graduated]\": \"subversion\", \"Superset [graduated]\": \"superset\", \"Synapse [graduated]\": \"synapse\", \"Syncope [graduated]\": \"syncope\", \"SystemML [graduated]\": \"systemml\", \"Tajo [graduated]\": \"tajo\", \"Tamaya [retired]\": \"tamaya\", \"Tapestry [graduated]\": \"tapestry\", \"Tashi [retired]\": \"tashi\", \"Taverna [retired]\": \"taverna\", \"Tephra [graduated]\": \"tephra\", \"Tez [graduated]\": \"tez\", \"Thrift [graduated]\": \"thrift\", \"Tika [graduated]\": \"tika\", \"TinkerPop [graduated]\": \"tinkerpop\", \"Traffic Control [graduated]\": \"trafficcontrol\", \"Traffic Server [graduated]\": \"trafficserver\", \"Trafodion [graduated]\": \"trafodion\", \"TripleSoup [retired]\": \"triplesoup\", \"Tuscany [graduated]\": \"tuscany\", \"TVM [graduated]\": \"tvm\", \"Twill [graduated]\": \"twill\", \"UIMA [graduated]\": \"uima\", \"Unomi [graduated]\": \"unomi\", \"Usergrid [graduated]\": \"usergrid\", \"VCL [graduated]\": \"vcl\", \"VXQuery [graduated]\": \"vxquery\", \"Warble [retired]\": \"warble\", \"Wave [retired]\": \"wave\", \"Weex [retired]\": \"weex\", \"Whirr [graduated]\": \"whirr\", \"Wicket [graduated]\": \"wicket\", \"Wink [graduated]\": \"wink\", \"Wookie [graduated]\": \"wookie\", \"XAP [retired]\": \"xap\", \"XMLBeans [graduated]\": \"xmlbeans\", \"Yoko [retired]\": \"yoko\", \"Zeppelin [graduated]\": \"zeppelin\", \"Zeta Components [retired]\": \"zeta\", \"Zipkin [retired]\": \"zipkin\"}"
      ],
      "metadata": {
        "id": "J_DQhEcFq3DR"
      },
      "execution_count": null,
      "outputs": []
    },
    {
      "cell_type": "code",
      "source": [
        "d['Open Climate Workbench [graduated]']"
      ],
      "metadata": {
        "colab": {
          "base_uri": "https://localhost:8080/",
          "height": 36
        },
        "id": "Zend-vvwyhqO",
        "outputId": "a52f2bf0-b0e4-4927-e491-c28f46515373"
      },
      "execution_count": null,
      "outputs": [
        {
          "output_type": "execute_result",
          "data": {
            "application/vnd.google.colaboratory.intrinsic+json": {
              "type": "string"
            },
            "text/plain": [
              "'climate'"
            ]
          },
          "metadata": {},
          "execution_count": 20
        }
      ]
    },
    {
      "cell_type": "code",
      "source": [
        ""
      ],
      "metadata": {
        "id": "BHY9AnDPyh89"
      },
      "execution_count": null,
      "outputs": []
    }
  ]
}