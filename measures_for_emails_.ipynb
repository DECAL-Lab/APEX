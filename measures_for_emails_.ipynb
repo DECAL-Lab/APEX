{
  "cells": [
    {
      "cell_type": "markdown",
      "metadata": {
        "id": "view-in-github",
        "colab_type": "text"
      },
      "source": [
        "<a href=\"https://colab.research.google.com/github/anirudhsuresh/APEX/blob/main/measures_for_emails_.ipynb\" target=\"_parent\"><img src=\"https://colab.research.google.com/assets/colab-badge.svg\" alt=\"Open In Colab\"/></a>"
      ]
    },
    {
      "cell_type": "code",
      "execution_count": null,
      "metadata": {
        "id": "Lp0-UUZKzjOl"
      },
      "outputs": [],
      "source": [
        "import collections\n",
        "import pandas as pd\n",
        "import os\n",
        "import json\n",
        "import re"
      ]
    },
    {
      "cell_type": "code",
      "execution_count": null,
      "metadata": {
        "id": "BBjjcfIazkbg"
      },
      "outputs": [],
      "source": [
        "emails_path='/content/drive/MyDrive/$ Nov Apache Data /network_data/emails/'\n",
        "result_path='/content/drive/MyDrive/$ Nov Apache Data /2022_new_data/email_measures/'"
      ]
    },
    {
      "cell_type": "code",
      "execution_count": null,
      "metadata": {
        "id": "CWzJAID3zm0v"
      },
      "outputs": [],
      "source": [
        "to_id='/content/drive/MyDrive/$ Nov Apache Data /name_to_id.json'"
      ]
    },
    {
      "cell_type": "code",
      "execution_count": null,
      "metadata": {
        "id": "Fp5fI3kU4pin"
      },
      "outputs": [],
      "source": [
        "measures='/content/drive/MyDrive/$ Nov Apache Data /measures'"
      ]
    },
    {
      "cell_type": "code",
      "execution_count": null,
      "metadata": {
        "colab": {
          "base_uri": "https://localhost:8080/"
        },
        "id": "96K4S8VJznwU",
        "outputId": "f9ef74a6-7534-44fd-ee58-635724ac5b4d"
      },
      "outputs": [
        {
          "output_type": "execute_result",
          "data": {
            "text/plain": [
              "6036"
            ]
          },
          "metadata": {},
          "execution_count": 16
        }
      ],
      "source": [
        "all_emails=os.listdir(emails_path)\n",
        "n=len(all_emails)\n",
        "n"
      ]
    },
    {
      "cell_type": "code",
      "source": [
        "all_emails=os.listdir(result_path)\n",
        "n=len(all_emails)\n",
        "n"
      ],
      "metadata": {
        "colab": {
          "base_uri": "https://localhost:8080/"
        },
        "id": "jHxaFx-r5mgP",
        "outputId": "1c472e9d-61c3-44bb-87ec-d759c4a858bb"
      },
      "execution_count": null,
      "outputs": [
        {
          "output_type": "execute_result",
          "data": {
            "text/plain": [
              "6036"
            ]
          },
          "metadata": {},
          "execution_count": 6
        }
      ]
    },
    {
      "cell_type": "code",
      "execution_count": null,
      "metadata": {
        "id": "GOK-Cl_Hd33e"
      },
      "outputs": [],
      "source": [
        "all_emails.sort()"
      ]
    },
    {
      "cell_type": "code",
      "execution_count": null,
      "metadata": {
        "id": "60MarGCVYrZf"
      },
      "outputs": [],
      "source": [
        "all_emails.sort()\n",
        "d={}\n",
        "for f in range(n):\n",
        "  filez=all_emails[f]\n",
        "  if filez.split('__')[1].split('.')[0]=='0':\n",
        "    d[filez.split('__')[0]]=1\n",
        "projects_to_change=d"
      ]
    },
    {
      "cell_type": "code",
      "execution_count": null,
      "metadata": {
        "id": "M_BnI4T2cGnY"
      },
      "outputs": [],
      "source": [
        "def make_the_nested_list(normal_data_frame,project_name,month):\n",
        "  df_list=df['content'].tolist()\n",
        "  result=[]\n",
        "  for i in df_list:\n",
        "    myorder = [1,0,2]\n",
        "    mylist=i.split('##',3)\n",
        "    try:\n",
        "      mylist = [mylist[i] for i in myorder]\n",
        "    except IndexError:\n",
        "      continue\n",
        "    result.append(mylist)\n",
        "\n",
        "  answers=[int(i[2]) for i in result]\n",
        "  \n",
        "  dev=[i[0] for i in result]\n",
        "  devs=len(list(set(dev)))\n",
        "  # per_dev=sum(answers)//devs\n",
        "\n",
        "  # n=[sum(answers),devs,per_dev]\n",
        "  try :\n",
        "    per_dev=sum(answers)//devs\n",
        "\n",
        "    n=[sum(answers),devs,per_dev]\n",
        "  except ZeroDivisionError:\n",
        "    res.append([project_name,month])\n",
        "    n=[1,1,1]\n",
        "  return n"
      ]
    },
    {
      "cell_type": "code",
      "execution_count": null,
      "metadata": {
        "id": "3u66cWcrZlbr"
      },
      "outputs": [],
      "source": [
        "def check_current_name(cur_prj_name,cur_prj_month):\n",
        "\n",
        "\n",
        "\n",
        "    if cur_prj_name in projects_to_change:\n",
        "      cur_prj_month=int(cur_prj_month)\n",
        "      cur_prj_month+=1\n",
        "    else:\n",
        "      return cur_prj_month\n",
        "    #   new_name='p'+str(name_to_id_mapping[cur_prj_name])+'m'+str(cur_prj_month)+'_'+'commits'+'.json'\n",
        "    # else:\n",
        "    #   new_name='p'+str(name_to_id_mapping[cur_prj_name])+'m'+str(cur_prj_month)+'_'+'commits'+'.json'\n",
        "\n",
        "    return cur_prj_month"
      ]
    },
    {
      "cell_type": "code",
      "execution_count": null,
      "metadata": {
        "id": "wS_LU_D23tbD"
      },
      "outputs": [],
      "source": [
        "def create_json_files_emails(p_l):\n",
        "  d={}\n",
        "  # json_file['num_emails'] = p_l[0]\n",
        "  # json_file['num_senders'] = p_l[1]\n",
        "  # json_file['email_per_dev'] = p_l[1]\n",
        "  d['num_emails']=p_l[0]\n",
        "  d['num_senders']=p_l[1]\n",
        "  d['email_per_dev']=p_l[1]\n",
        "  return d"
      ]
    },
    {
      "cell_type": "code",
      "execution_count": null,
      "metadata": {
        "id": "PpooJJRP3vI8"
      },
      "outputs": [],
      "source": [
        "def extract_number(input_string):\n",
        "  res=re.findall(r'\\d+',input_string)\n",
        "  return res[0]\n",
        "def extract_name(ans1):\n",
        "\n",
        "  regex = re.compile('[^a-zA-Z]')\n",
        "  #First parameter is the replacement, second parameter is your input string\n",
        "  a=regex.sub('',ans1.split('_')[0] )\n",
        "  return a"
      ]
    },
    {
      "cell_type": "code",
      "execution_count": null,
      "metadata": {
        "colab": {
          "base_uri": "https://localhost:8080/",
          "height": 36
        },
        "id": "rEYnHv7YeODM",
        "outputId": "c7d61c70-3964-490f-a9bd-cda6a2009319"
      },
      "outputs": [
        {
          "data": {
            "application/vnd.google.colaboratory.intrinsic+json": {
              "type": "string"
            },
            "text/plain": [
              "'abdera__0.edgelist'"
            ]
          },
          "execution_count": 18,
          "metadata": {},
          "output_type": "execute_result"
        }
      ],
      "source": [
        "all_emails[0]"
      ]
    },
    {
      "cell_type": "code",
      "execution_count": null,
      "metadata": {
        "colab": {
          "base_uri": "https://localhost:8080/"
        },
        "id": "yNyRbglUe1Ts",
        "outputId": "aceb2304-85e5-433b-8f3f-5e937459bd29"
      },
      "outputs": [
        {
          "output_type": "execute_result",
          "data": {
            "text/plain": [
              "6036"
            ]
          },
          "metadata": {},
          "execution_count": 10
        }
      ],
      "source": [
        "n"
      ]
    },
    {
      "cell_type": "code",
      "execution_count": null,
      "metadata": {
        "colab": {
          "base_uri": "https://localhost:8080/"
        },
        "id": "EbbJcQvgffuo",
        "outputId": "2fbfe10c-dab4-4702-f329-f015ca867f18"
      },
      "outputs": [
        {
          "name": "stdout",
          "output_type": "stream",
          "text": [
            "[]\n"
          ]
        }
      ],
      "source": [
        "i=[]\n",
        "if not i:\n",
        "  print()"
      ]
    },
    {
      "cell_type": "code",
      "source": [
        "filez1"
      ],
      "metadata": {
        "colab": {
          "base_uri": "https://localhost:8080/",
          "height": 36
        },
        "id": "RwiFEUHVvmni",
        "outputId": "69950615-56c0-4686-934e-4ec9de53d6e4"
      },
      "execution_count": null,
      "outputs": [
        {
          "output_type": "execute_result",
          "data": {
            "application/vnd.google.colaboratory.intrinsic+json": {
              "type": "string"
            },
            "text/plain": [
              "'abdera__1.edgelist'"
            ]
          },
          "metadata": {},
          "execution_count": 15
        }
      ]
    },
    {
      "cell_type": "code",
      "execution_count": null,
      "metadata": {
        "id": "cFNN-IuCcZJI"
      },
      "outputs": [],
      "source": [
        "res=[]\n",
        "for f in range(1):\n",
        "  # for commits\n",
        "  # all_emails[0:30]\n",
        "  filez1=all_emails[f]\n",
        "  project_name=filez1.split('__',1)[0]\n",
        "  month=filez1.split('__',1)[1].split('.')[0]\n",
        "\n",
        "  df=pd.read_csv(emails_path+'/'+filez1,names=['content'])\n",
        "  df_list=df['content'].tolist()\n",
        "\n",
        "  r=(make_the_nested_list(df,project_name,month))\n",
        "  \n",
        "  out=check_current_name(project_name,month)\n",
        "\n",
        "  answer1=create_json_files_emails(r)\n",
        "  ### \n",
        "\n",
        "  x = json.dumps (answer1)\n",
        "  ### \n",
        "\n",
        "  # with open(result_path+filez1.split('__',1)[0]+'_'+str(out)+'.json', 'w') as f:\n",
        "  #   f.write(str(x))\n"
      ]
    },
    {
      "cell_type": "code",
      "source": [
        "df"
      ],
      "metadata": {
        "colab": {
          "base_uri": "https://localhost:8080/",
          "height": 423
        },
        "id": "rSyYPt7TbVco",
        "outputId": "98b4d9fe-90c6-4df3-e00b-304716e4f0de"
      },
      "execution_count": null,
      "outputs": [
        {
          "output_type": "execute_result",
          "data": {
            "text/html": [
              "\n",
              "  <div id=\"df-1d83e720-306a-4f92-823c-8d7a3c7c5f32\">\n",
              "    <div class=\"colab-df-container\">\n",
              "      <div>\n",
              "<style scoped>\n",
              "    .dataframe tbody tr th:only-of-type {\n",
              "        vertical-align: middle;\n",
              "    }\n",
              "\n",
              "    .dataframe tbody tr th {\n",
              "        vertical-align: top;\n",
              "    }\n",
              "\n",
              "    .dataframe thead th {\n",
              "        text-align: right;\n",
              "    }\n",
              "</style>\n",
              "<table border=\"1\" class=\"dataframe\">\n",
              "  <thead>\n",
              "    <tr style=\"text-align: right;\">\n",
              "      <th></th>\n",
              "      <th>content</th>\n",
              "    </tr>\n",
              "  </thead>\n",
              "  <tbody>\n",
              "    <tr>\n",
              "      <th>0</th>\n",
              "      <td>james m snell##ugo cei##5</td>\n",
              "    </tr>\n",
              "    <tr>\n",
              "      <th>1</th>\n",
              "      <td>james m snell##stephen duncan##98</td>\n",
              "    </tr>\n",
              "    <tr>\n",
              "      <th>2</th>\n",
              "      <td>james m snell##paul querna##12</td>\n",
              "    </tr>\n",
              "    <tr>\n",
              "      <th>3</th>\n",
              "      <td>james m snell##garrett rooney##110</td>\n",
              "    </tr>\n",
              "    <tr>\n",
              "      <th>4</th>\n",
              "      <td>james m snell##martin cooper##13</td>\n",
              "    </tr>\n",
              "    <tr>\n",
              "      <th>...</th>\n",
              "      <td>...</td>\n",
              "    </tr>\n",
              "    <tr>\n",
              "      <th>67</th>\n",
              "      <td>joe kim##garrett rooney##8</td>\n",
              "    </tr>\n",
              "    <tr>\n",
              "      <th>68</th>\n",
              "      <td>robert sayre##james m snell##7</td>\n",
              "    </tr>\n",
              "    <tr>\n",
              "      <th>69</th>\n",
              "      <td>robert sayre##stephen duncan##11</td>\n",
              "    </tr>\n",
              "    <tr>\n",
              "      <th>70</th>\n",
              "      <td>robert sayre##joe kim##6</td>\n",
              "    </tr>\n",
              "    <tr>\n",
              "      <th>71</th>\n",
              "      <td>robert sayre##garrett rooney##3</td>\n",
              "    </tr>\n",
              "  </tbody>\n",
              "</table>\n",
              "<p>72 rows × 1 columns</p>\n",
              "</div>\n",
              "      <button class=\"colab-df-convert\" onclick=\"convertToInteractive('df-1d83e720-306a-4f92-823c-8d7a3c7c5f32')\"\n",
              "              title=\"Convert this dataframe to an interactive table.\"\n",
              "              style=\"display:none;\">\n",
              "        \n",
              "  <svg xmlns=\"http://www.w3.org/2000/svg\" height=\"24px\"viewBox=\"0 0 24 24\"\n",
              "       width=\"24px\">\n",
              "    <path d=\"M0 0h24v24H0V0z\" fill=\"none\"/>\n",
              "    <path d=\"M18.56 5.44l.94 2.06.94-2.06 2.06-.94-2.06-.94-.94-2.06-.94 2.06-2.06.94zm-11 1L8.5 8.5l.94-2.06 2.06-.94-2.06-.94L8.5 2.5l-.94 2.06-2.06.94zm10 10l.94 2.06.94-2.06 2.06-.94-2.06-.94-.94-2.06-.94 2.06-2.06.94z\"/><path d=\"M17.41 7.96l-1.37-1.37c-.4-.4-.92-.59-1.43-.59-.52 0-1.04.2-1.43.59L10.3 9.45l-7.72 7.72c-.78.78-.78 2.05 0 2.83L4 21.41c.39.39.9.59 1.41.59.51 0 1.02-.2 1.41-.59l7.78-7.78 2.81-2.81c.8-.78.8-2.07 0-2.86zM5.41 20L4 18.59l7.72-7.72 1.47 1.35L5.41 20z\"/>\n",
              "  </svg>\n",
              "      </button>\n",
              "      \n",
              "  <style>\n",
              "    .colab-df-container {\n",
              "      display:flex;\n",
              "      flex-wrap:wrap;\n",
              "      gap: 12px;\n",
              "    }\n",
              "\n",
              "    .colab-df-convert {\n",
              "      background-color: #E8F0FE;\n",
              "      border: none;\n",
              "      border-radius: 50%;\n",
              "      cursor: pointer;\n",
              "      display: none;\n",
              "      fill: #1967D2;\n",
              "      height: 32px;\n",
              "      padding: 0 0 0 0;\n",
              "      width: 32px;\n",
              "    }\n",
              "\n",
              "    .colab-df-convert:hover {\n",
              "      background-color: #E2EBFA;\n",
              "      box-shadow: 0px 1px 2px rgba(60, 64, 67, 0.3), 0px 1px 3px 1px rgba(60, 64, 67, 0.15);\n",
              "      fill: #174EA6;\n",
              "    }\n",
              "\n",
              "    [theme=dark] .colab-df-convert {\n",
              "      background-color: #3B4455;\n",
              "      fill: #D2E3FC;\n",
              "    }\n",
              "\n",
              "    [theme=dark] .colab-df-convert:hover {\n",
              "      background-color: #434B5C;\n",
              "      box-shadow: 0px 1px 3px 1px rgba(0, 0, 0, 0.15);\n",
              "      filter: drop-shadow(0px 1px 2px rgba(0, 0, 0, 0.3));\n",
              "      fill: #FFFFFF;\n",
              "    }\n",
              "  </style>\n",
              "\n",
              "      <script>\n",
              "        const buttonEl =\n",
              "          document.querySelector('#df-1d83e720-306a-4f92-823c-8d7a3c7c5f32 button.colab-df-convert');\n",
              "        buttonEl.style.display =\n",
              "          google.colab.kernel.accessAllowed ? 'block' : 'none';\n",
              "\n",
              "        async function convertToInteractive(key) {\n",
              "          const element = document.querySelector('#df-1d83e720-306a-4f92-823c-8d7a3c7c5f32');\n",
              "          const dataTable =\n",
              "            await google.colab.kernel.invokeFunction('convertToInteractive',\n",
              "                                                     [key], {});\n",
              "          if (!dataTable) return;\n",
              "\n",
              "          const docLinkHtml = 'Like what you see? Visit the ' +\n",
              "            '<a target=\"_blank\" href=https://colab.research.google.com/notebooks/data_table.ipynb>data table notebook</a>'\n",
              "            + ' to learn more about interactive tables.';\n",
              "          element.innerHTML = '';\n",
              "          dataTable['output_type'] = 'display_data';\n",
              "          await google.colab.output.renderOutput(dataTable, element);\n",
              "          const docLink = document.createElement('div');\n",
              "          docLink.innerHTML = docLinkHtml;\n",
              "          element.appendChild(docLink);\n",
              "        }\n",
              "      </script>\n",
              "    </div>\n",
              "  </div>\n",
              "  "
            ],
            "text/plain": [
              "                               content\n",
              "0            james m snell##ugo cei##5\n",
              "1    james m snell##stephen duncan##98\n",
              "2       james m snell##paul querna##12\n",
              "3   james m snell##garrett rooney##110\n",
              "4     james m snell##martin cooper##13\n",
              "..                                 ...\n",
              "67          joe kim##garrett rooney##8\n",
              "68      robert sayre##james m snell##7\n",
              "69    robert sayre##stephen duncan##11\n",
              "70            robert sayre##joe kim##6\n",
              "71     robert sayre##garrett rooney##3\n",
              "\n",
              "[72 rows x 1 columns]"
            ]
          },
          "metadata": {},
          "execution_count": 23
        }
      ]
    },
    {
      "cell_type": "code",
      "source": [
        "filez1=all_emails[1]\n",
        "project_name=filez1.split('__',1)[0]\n",
        "month=filez1.split('__',1)[1].split('.')[0]\n",
        "\n",
        "df=pd.read_csv(emails_path+'/'+filez1,names=['content'])"
      ],
      "metadata": {
        "colab": {
          "base_uri": "https://localhost:8080/",
          "height": 245
        },
        "id": "H7uxLmSWa4ep",
        "outputId": "56329140-5612-4d5b-f66a-fcdf8da5b681"
      },
      "execution_count": null,
      "outputs": [
        {
          "output_type": "error",
          "ename": "IndexError",
          "evalue": "ignored",
          "traceback": [
            "\u001b[0;31m---------------------------------------------------------------------------\u001b[0m",
            "\u001b[0;31mIndexError\u001b[0m                                Traceback (most recent call last)",
            "\u001b[0;32m<ipython-input-14-629aab8d1fe9>\u001b[0m in \u001b[0;36m<module>\u001b[0;34m()\u001b[0m\n\u001b[1;32m      1\u001b[0m \u001b[0mfilez1\u001b[0m\u001b[0;34m=\u001b[0m\u001b[0mall_emails\u001b[0m\u001b[0;34m[\u001b[0m\u001b[0;36m1\u001b[0m\u001b[0;34m]\u001b[0m\u001b[0;34m\u001b[0m\u001b[0;34m\u001b[0m\u001b[0m\n\u001b[1;32m      2\u001b[0m \u001b[0mproject_name\u001b[0m\u001b[0;34m=\u001b[0m\u001b[0mfilez1\u001b[0m\u001b[0;34m.\u001b[0m\u001b[0msplit\u001b[0m\u001b[0;34m(\u001b[0m\u001b[0;34m'__'\u001b[0m\u001b[0;34m,\u001b[0m\u001b[0;36m1\u001b[0m\u001b[0;34m)\u001b[0m\u001b[0;34m[\u001b[0m\u001b[0;36m0\u001b[0m\u001b[0;34m]\u001b[0m\u001b[0;34m\u001b[0m\u001b[0;34m\u001b[0m\u001b[0m\n\u001b[0;32m----> 3\u001b[0;31m \u001b[0mmonth\u001b[0m\u001b[0;34m=\u001b[0m\u001b[0mfilez1\u001b[0m\u001b[0;34m.\u001b[0m\u001b[0msplit\u001b[0m\u001b[0;34m(\u001b[0m\u001b[0;34m'__'\u001b[0m\u001b[0;34m,\u001b[0m\u001b[0;36m1\u001b[0m\u001b[0;34m)\u001b[0m\u001b[0;34m[\u001b[0m\u001b[0;36m1\u001b[0m\u001b[0;34m]\u001b[0m\u001b[0;34m.\u001b[0m\u001b[0msplit\u001b[0m\u001b[0;34m(\u001b[0m\u001b[0;34m'.'\u001b[0m\u001b[0;34m)\u001b[0m\u001b[0;34m[\u001b[0m\u001b[0;36m0\u001b[0m\u001b[0;34m]\u001b[0m\u001b[0;34m\u001b[0m\u001b[0;34m\u001b[0m\u001b[0m\n\u001b[0m\u001b[1;32m      4\u001b[0m \u001b[0;34m\u001b[0m\u001b[0m\n\u001b[1;32m      5\u001b[0m \u001b[0mdf\u001b[0m\u001b[0;34m=\u001b[0m\u001b[0mpd\u001b[0m\u001b[0;34m.\u001b[0m\u001b[0mread_csv\u001b[0m\u001b[0;34m(\u001b[0m\u001b[0memails_path\u001b[0m\u001b[0;34m+\u001b[0m\u001b[0;34m'/'\u001b[0m\u001b[0;34m+\u001b[0m\u001b[0mfilez1\u001b[0m\u001b[0;34m,\u001b[0m\u001b[0mnames\u001b[0m\u001b[0;34m=\u001b[0m\u001b[0;34m[\u001b[0m\u001b[0;34m'content'\u001b[0m\u001b[0;34m]\u001b[0m\u001b[0;34m)\u001b[0m\u001b[0;34m\u001b[0m\u001b[0;34m\u001b[0m\u001b[0m\n",
            "\u001b[0;31mIndexError\u001b[0m: list index out of range"
          ]
        }
      ]
    },
    {
      "cell_type": "markdown",
      "metadata": {
        "id": "IGYLcCZKcbWe"
      },
      "source": [
        "----"
      ]
    },
    {
      "cell_type": "code",
      "execution_count": null,
      "metadata": {
        "id": "oGWP0iS-fByT"
      },
      "outputs": [],
      "source": [
        " df_list=df['content'].tolist()"
      ]
    },
    {
      "cell_type": "code",
      "execution_count": null,
      "metadata": {
        "colab": {
          "base_uri": "https://localhost:8080/"
        },
        "id": "rx8BdPVzfBu7",
        "outputId": "3a944d13-ca61-4a45-a451-7a32f6a44056"
      },
      "outputs": [
        {
          "data": {
            "text/plain": [
              "[]"
            ]
          },
          "execution_count": 37,
          "metadata": {},
          "output_type": "execute_result"
        }
      ],
      "source": [
        "df_list"
      ]
    },
    {
      "cell_type": "code",
      "execution_count": null,
      "metadata": {
        "id": "VtD_VJDXfBoz"
      },
      "outputs": [],
      "source": [
        ""
      ]
    },
    {
      "cell_type": "code",
      "execution_count": null,
      "metadata": {
        "id": "ntDaz3sE4sRH"
      },
      "outputs": [],
      "source": [
        "r=[]\n",
        "for f in range(n):\n",
        "  # for commits\n",
        "  \n",
        "  filez1=all_emails[f]\n",
        "  project_name=filez1.split('__',1)[0]\n",
        "  month=filez1.split('__',1)[1].split('.')[0]\n",
        "\n",
        "  df=pd.read_csv(emails_path+'/'+filez1,names=['content'])\n",
        "  r=(make_the_nested_list(df))\n",
        "  \n",
        "  out=check_current_name(project_name,month)\n",
        "  json_path=measures+'/'+out\n",
        "  try:\n",
        "    f = open(json_path)\n",
        "    json_file = json.load(f)\n",
        "    answer1=create_json_files_emails(r,json_file)\n",
        "    ### \n",
        "\n",
        "    x = json.dumps (answer1)\n",
        "    ### \n",
        "\n",
        "    with open(e_result_path+out, 'w') as f:\n",
        "      f.write(str(x))\n",
        "  except FileNotFoundError:\n",
        "    continue"
      ]
    },
    {
      "cell_type": "code",
      "execution_count": null,
      "metadata": {
        "colab": {
          "base_uri": "https://localhost:8080/",
          "height": 36
        },
        "id": "9U9EWsxA_O-V",
        "outputId": "c241301c-040e-4eeb-8c19-1af9c1029af6"
      },
      "outputs": [
        {
          "data": {
            "application/vnd.google.colaboratory.intrinsic+json": {
              "type": "string"
            },
            "text/plain": [
              "'/content/drive/MyDrive/$ Nov Apache Data /measures'"
            ]
          },
          "execution_count": 14,
          "metadata": {},
          "output_type": "execute_result"
        }
      ],
      "source": [
        "measures"
      ]
    },
    {
      "cell_type": "code",
      "execution_count": null,
      "metadata": {
        "id": "adlDhvNs_O7C"
      },
      "outputs": [],
      "source": [
        ""
      ]
    },
    {
      "cell_type": "code",
      "execution_count": null,
      "metadata": {
        "id": "O7fHQnx-YPEd"
      },
      "outputs": [],
      "source": [
        "r=[]\n",
        "for f in range(n):\n",
        "  # for commits\n",
        "  \n",
        "  filez1=all_emails[f]\n",
        "  project_name=filez1.split('__',1)[0]\n",
        "  month=filez1.split('__',1)[1].split('.')[0]\n",
        "\n",
        "  df=pd.read_csv(emails_path+'/'+filez1,names=['content'])\n",
        "  r=(make_the_nested_list(df))\n",
        "  \n",
        "  out=check_current_name(project_name,month)\n",
        "  json_path=measures+'/'+out\n",
        " \n",
        "  answer1=create_json_files_emails(r)\n",
        "  ### \n",
        "\n",
        "  x = json.dumps (answer1)\n",
        "  ### \n",
        "\n",
        "  with open(e_result_path+out, 'w') as f:\n",
        "    f.write(str(x))\n"
      ]
    },
    {
      "cell_type": "code",
      "execution_count": null,
      "metadata": {
        "id": "e2UMrFId_O34"
      },
      "outputs": [],
      "source": [
        ""
      ]
    },
    {
      "cell_type": "code",
      "execution_count": null,
      "metadata": {
        "id": "5Z9TCemC63dJ"
      },
      "outputs": [],
      "source": [
        "all_emails.sort()"
      ]
    },
    {
      "cell_type": "code",
      "execution_count": null,
      "metadata": {
        "colab": {
          "base_uri": "https://localhost:8080/"
        },
        "id": "zbQLgVdP8JZf",
        "outputId": "9d5362be-9451-43e6-df0e-f855cc8346a6"
      },
      "outputs": [
        {
          "data": {
            "text/plain": [
              "6036"
            ]
          },
          "execution_count": 29,
          "metadata": {},
          "output_type": "execute_result"
        }
      ],
      "source": [
        "n"
      ]
    },
    {
      "cell_type": "code",
      "execution_count": null,
      "metadata": {
        "id": "-RKvoPfb8KDA"
      },
      "outputs": [],
      "source": [
        "# ---------"
      ]
    },
    {
      "cell_type": "code",
      "execution_count": null,
      "metadata": {
        "id": "pMYwNpd7Y13f"
      },
      "outputs": [],
      "source": [
        "# n=len(all_emails)\n",
        "# # number of projects to change the file name for \n",
        "# projects_to_change=[]\n",
        "# for i in range(n):\n",
        "#   fo=all_emails[i]\n",
        "#   # read the file\n",
        "#   # get the mentor list for this project\n",
        "#   c=fo.split('__')[0]\n",
        "#   p=extract_name(c)\n",
        "#   digit=fo.split('__')[1].split('.')[0]\n",
        "  \n",
        "#   if digit is '0':\n",
        "#     if p not in projects_to_change:\n",
        "#       projects_to_change.append(p)\n",
        "# projects_to_change.sort()"
      ]
    },
    {
      "cell_type": "code",
      "execution_count": null,
      "metadata": {
        "id": "P-XNRwl6Y13f"
      },
      "outputs": [],
      "source": [
        "# def make_the_nested_list(normal_data_frame):\n",
        "#   df_list=df['content'].tolist()\n",
        "#   result=[]\n",
        "#   for i in df_list:\n",
        "#     myorder = [1,0,2]\n",
        "#     mylist=i.split('##',3)\n",
        "#     try:\n",
        "#       mylist = [mylist[i] for i in myorder]\n",
        "#     except IndexError:\n",
        "#       continue\n",
        "#     result.append(mylist)\n",
        "\n",
        "#   answers=[int(i[2]) for i in result]\n",
        "  \n",
        "#   dev=[i[0] for i in result]\n",
        "#   devs=len(list(set(dev)))\n",
        "#   try :\n",
        "#     per_dev=sum(answers)//devs\n",
        "\n",
        "#     n=[sum(answers),devs,per_dev]\n",
        "#   except ZeroDivisionError:\n",
        "#     n=[1,1,1]\n",
        "#   return n"
      ]
    },
    {
      "cell_type": "code",
      "execution_count": null,
      "metadata": {
        "id": "OmMgDd28Y13g"
      },
      "outputs": [],
      "source": [
        "# with open(to_id, 'r') as f:\n",
        "#        name_to_id= json.load(f)\n",
        "# # \n",
        "# test_values=list(name_to_id.values())\n",
        "# # \n",
        "# name=list(name_to_id)\n",
        "# # \n",
        "# test_keys=[i.split(' ')[0].lower().strip() for i in name_to_id ]\n",
        "# # \n",
        "# name_to_id_mapping = {test_keys[i]: test_values[i] for i in range(len(test_keys))}\n",
        "# key=list(name_to_id_mapping.values())\n",
        "# k=[int(i) for i in key]\n",
        "# k.sort()\n",
        "# curre=k[-1]\n",
        "# name_to_id_mapping\n",
        "# i=312\n",
        "# for file in all_emails:\n",
        "#   prj_name=file.split('__',1)[0]\n",
        "#   if prj_name not in name_to_id_mapping:\n",
        "#     name_to_id_mapping[prj_name]=i\n",
        "#     i+=1\n",
        "\n",
        "#   else:\n",
        "#     continue "
      ]
    },
    {
      "cell_type": "code",
      "execution_count": null,
      "metadata": {
        "id": "3or5599KY6pm"
      },
      "outputs": [],
      "source": [
        "def check_current_name(cur_prj_name,cur_prj_month):\n",
        "\n",
        "\n",
        "\n",
        "    if cur_prj_name in projects_to_change:\n",
        "      cur_prj_month=int(cur_prj_month)\n",
        "      cur_prj_month+=1\n",
        "      new_name='p'+str(name_to_id_mapping[cur_prj_name])+'m'+str(cur_prj_month)+'.json'\n",
        "    else:\n",
        "      new_name='p'+str(name_to_id_mapping[cur_prj_name])+'m'+str(cur_prj_month)+'.json'\n",
        "    #       new_name='p'+str(name_to_id_mapping[cur_prj_name])+'m'+str(cur_prj_month)+'_'+'emails'+'.json'\n",
        "    # else:\n",
        "    #   new_name='p'+str(name_to_id_mapping[cur_prj_name])+'m'+str(cur_prj_month)+'_'+'emails'+'.json'\n",
        "\n",
        "    return new_name"
      ]
    }
  ],
  "metadata": {
    "colab": {
      "name": "measures for emails .ipynb",
      "provenance": [],
      "mount_file_id": "1sVP7aL94KMcL6_lJc60n1AQlQHJAC4v_",
      "authorship_tag": "ABX9TyO+U7rldW9j2JzAb/zugRqR",
      "include_colab_link": true
    },
    "kernelspec": {
      "display_name": "Python 3",
      "name": "python3"
    },
    "language_info": {
      "name": "python"
    }
  },
  "nbformat": 4,
  "nbformat_minor": 0
}